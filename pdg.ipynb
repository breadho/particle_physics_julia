{
 "cells": [
  {
   "cell_type": "markdown",
   "id": "ca67d96e",
   "metadata": {},
   "source": [
    "# Corpuscles.jl"
   ]
  },
  {
   "cell_type": "markdown",
   "id": "27b9f5ba",
   "metadata": {},
   "source": [
    "입자 물리학용 패키지\n",
    "\n",
    "- 입자들의 데이터를 손쉽게 찾아서 쓸 수 있도록 data 지원"
   ]
  },
  {
   "cell_type": "code",
   "execution_count": 1,
   "id": "79e9a24b",
   "metadata": {},
   "outputs": [],
   "source": [
    "using Corpuscles"
   ]
  },
  {
   "cell_type": "code",
   "execution_count": 2,
   "id": "30f676d9",
   "metadata": {},
   "outputs": [
    {
     "data": {
      "text/plain": [
       "Particle(12) 'nu(e)'"
      ]
     },
     "execution_count": 2,
     "metadata": {},
     "output_type": "execute_result"
    }
   ],
   "source": [
    "p = Particle(12)"
   ]
  },
  {
   "cell_type": "code",
   "execution_count": 7,
   "id": "6d3ad6e0",
   "metadata": {},
   "outputs": [
    {
     "name": "stdout",
     "output_type": "stream",
     "text": [
      "Name:    nu(e)\n",
      "PDG ID:  12\n",
      "LaTeX:   $\\nu_{e}$\n",
      "Status:  Rare\n",
      "Width = -1.0 MeV ± -1.0 MeV\n",
      "Q (charge) = 0//1 e\n",
      "Mass = -1.0 MeV ± -1.0 MeV\n"
     ]
    }
   ],
   "source": [
    "print(p)"
   ]
  },
  {
   "cell_type": "code",
   "execution_count": 9,
   "id": "ceb4cc46",
   "metadata": {},
   "outputs": [
    {
     "data": {
      "text/plain": [
       "(:pdgid, :mass, :width, :charge, :isospin, :parity, :gparity, :cparity, :antiprop, :rank, :status, :name, :quarks, :latex)"
      ]
     },
     "execution_count": 9,
     "metadata": {},
     "output_type": "execute_result"
    }
   ],
   "source": [
    "fieldnames(Particle)"
   ]
  },
  {
   "cell_type": "code",
   "execution_count": 10,
   "id": "fbd91497",
   "metadata": {},
   "outputs": [
    {
     "data": {
      "text/plain": [
       "\"nu(e)\""
      ]
     },
     "execution_count": 10,
     "metadata": {},
     "output_type": "execute_result"
    }
   ],
   "source": [
    "p.name"
   ]
  },
  {
   "cell_type": "code",
   "execution_count": 11,
   "id": "3971fd4e",
   "metadata": {},
   "outputs": [
    {
     "data": {
      "text/plain": [
       "PDGID(12)"
      ]
     },
     "execution_count": 11,
     "metadata": {},
     "output_type": "execute_result"
    }
   ],
   "source": [
    "p.pdgid"
   ]
  },
  {
   "cell_type": "code",
   "execution_count": 12,
   "id": "c7bc8bbb",
   "metadata": {},
   "outputs": [
    {
     "data": {
      "text/plain": [
       "-1.0 MeV ± -1.0 MeV"
      ]
     },
     "execution_count": 12,
     "metadata": {},
     "output_type": "execute_result"
    }
   ],
   "source": [
    "p.mass"
   ]
  },
  {
   "cell_type": "code",
   "execution_count": 13,
   "id": "5b32a734",
   "metadata": {},
   "outputs": [
    {
     "data": {
      "text/plain": [
       "-1.0 MeV ± -1.0 MeV"
      ]
     },
     "execution_count": 13,
     "metadata": {},
     "output_type": "execute_result"
    }
   ],
   "source": [
    "p.width"
   ]
  },
  {
   "cell_type": "code",
   "execution_count": 14,
   "id": "ee902d5a",
   "metadata": {},
   "outputs": [
    {
     "data": {
      "text/plain": [
       "0//1 e"
      ]
     },
     "execution_count": 14,
     "metadata": {},
     "output_type": "execute_result"
    }
   ],
   "source": [
    "p.charge"
   ]
  },
  {
   "cell_type": "code",
   "execution_count": 15,
   "id": "abeb3b22",
   "metadata": {},
   "outputs": [
    {
     "data": {
      "text/plain": [
       "missing"
      ]
     },
     "execution_count": 15,
     "metadata": {},
     "output_type": "execute_result"
    }
   ],
   "source": [
    "p.isospin"
   ]
  },
  {
   "cell_type": "code",
   "execution_count": 16,
   "id": "aa6f7383",
   "metadata": {},
   "outputs": [
    {
     "data": {
      "text/plain": [
       "missing"
      ]
     },
     "execution_count": 16,
     "metadata": {},
     "output_type": "execute_result"
    }
   ],
   "source": [
    "p.parity"
   ]
  },
  {
   "cell_type": "code",
   "execution_count": 17,
   "id": "1ba33f95",
   "metadata": {},
   "outputs": [
    {
     "data": {
      "text/plain": [
       "missing"
      ]
     },
     "execution_count": 17,
     "metadata": {},
     "output_type": "execute_result"
    }
   ],
   "source": [
    "p.gparity"
   ]
  },
  {
   "cell_type": "code",
   "execution_count": 18,
   "id": "3206159b",
   "metadata": {},
   "outputs": [
    {
     "data": {
      "text/plain": [
       "missing"
      ]
     },
     "execution_count": 18,
     "metadata": {},
     "output_type": "execute_result"
    }
   ],
   "source": [
    "p.cparity"
   ]
  },
  {
   "cell_type": "code",
   "execution_count": 19,
   "id": "3a72adfd",
   "metadata": {},
   "outputs": [
    {
     "data": {
      "text/plain": [
       "Barred::InvProperty = 1"
      ]
     },
     "execution_count": 19,
     "metadata": {},
     "output_type": "execute_result"
    }
   ],
   "source": [
    "p.antiprop"
   ]
  },
  {
   "cell_type": "code",
   "execution_count": 20,
   "id": "3517085f",
   "metadata": {},
   "outputs": [
    {
     "data": {
      "text/plain": [
       "0"
      ]
     },
     "execution_count": 20,
     "metadata": {},
     "output_type": "execute_result"
    }
   ],
   "source": [
    "p.rank"
   ]
  },
  {
   "cell_type": "code",
   "execution_count": 21,
   "id": "dd0974ac",
   "metadata": {},
   "outputs": [
    {
     "data": {
      "text/plain": [
       "Rare::PDGStatus = 1"
      ]
     },
     "execution_count": 21,
     "metadata": {},
     "output_type": "execute_result"
    }
   ],
   "source": [
    "p.status"
   ]
  },
  {
   "cell_type": "code",
   "execution_count": 22,
   "id": "042eabce",
   "metadata": {},
   "outputs": [
    {
     "data": {
      "text/plain": [
       "\"\""
      ]
     },
     "execution_count": 22,
     "metadata": {},
     "output_type": "execute_result"
    }
   ],
   "source": [
    "p.quarks"
   ]
  },
  {
   "cell_type": "code",
   "execution_count": 24,
   "id": "ec7ced26",
   "metadata": {},
   "outputs": [
    {
     "data": {
      "text/plain": [
       "\"\\\\nu_{e}\""
      ]
     },
     "execution_count": 24,
     "metadata": {},
     "output_type": "execute_result"
    }
   ],
   "source": [
    "p.latex"
   ]
  },
  {
   "cell_type": "code",
   "execution_count": 28,
   "id": "1bc83ddc",
   "metadata": {},
   "outputs": [
    {
     "data": {
      "text/plain": [
       "608-element Vector{Particle}:\n",
       " Particle(4224) 'Sigma(c)(2520)'\n",
       " Particle(-9000215) 'a(2)(1700)'\n",
       " Particle(-33122) 'Lambda(1670)'\n",
       " Particle(100323) 'K*(1410)'\n",
       " Particle(-21114) 'Delta(1920)'\n",
       " Particle(9010327) 'K(3)(2320)'\n",
       " Particle(9000213) 'pi(1)(1400)'\n",
       " Particle(511) 'B'\n",
       " Particle(1218) 'N(2190)'\n",
       " Particle(-1118) 'Delta(1950)'\n",
       " Particle(20315) 'K(2)(1820)'\n",
       " Particle(327) 'K(3)*(1780)'\n",
       " Particle(-13126) 'Lambda(1830)'\n",
       " ⋮\n",
       " Particle(-23126) 'Lambda(2110)'\n",
       " Particle(-4403) '(cc)(1)'\n",
       " Particle(-100321) 'K(1460)'\n",
       " Particle(-4312) 'Xi(c)''\n",
       " Particle(30313) 'K*(1680)'\n",
       " Particle(32214) 'Delta(1600)'\n",
       " Particle(-3) 's'\n",
       " Particle(2122) 'Delta(1620)'\n",
       " Particle(555) 'chi(b2)(1P)'\n",
       " Particle(22114) 'Delta(1920)'\n",
       " Particle(3314) 'Xi(1530)'\n",
       " Particle(-6) 't'"
      ]
     },
     "execution_count": 28,
     "metadata": {},
     "output_type": "execute_result"
    }
   ],
   "source": [
    "particles()"
   ]
  },
  {
   "cell_type": "markdown",
   "id": "1fc139c5",
   "metadata": {},
   "source": [
    "## Units"
   ]
  },
  {
   "cell_type": "code",
   "execution_count": 31,
   "id": "25f72a56",
   "metadata": {},
   "outputs": [
    {
     "data": {
      "text/plain": [
       "Corpuscles.MeasuredValue{𝐋^2 𝐌 𝐓^-2}"
      ]
     },
     "execution_count": 31,
     "metadata": {},
     "output_type": "execute_result"
    }
   ],
   "source": [
    "typeof(p.mass)"
   ]
  },
  {
   "cell_type": "code",
   "execution_count": 32,
   "id": "3404eeef",
   "metadata": {},
   "outputs": [
    {
     "data": {
      "text/plain": [
       "-1.0 MeV ± -1.0 MeV"
      ]
     },
     "execution_count": 32,
     "metadata": {},
     "output_type": "execute_result"
    }
   ],
   "source": [
    "p.mass"
   ]
  },
  {
   "cell_type": "code",
   "execution_count": 33,
   "id": "940d6f44",
   "metadata": {},
   "outputs": [
    {
     "data": {
      "text/plain": [
       "-1.0 MeV"
      ]
     },
     "execution_count": 33,
     "metadata": {},
     "output_type": "execute_result"
    }
   ],
   "source": [
    "p.mass.value"
   ]
  },
  {
   "cell_type": "code",
   "execution_count": 35,
   "id": "55e39727",
   "metadata": {},
   "outputs": [
    {
     "data": {
      "text/plain": [
       "-1.0 MeV"
      ]
     },
     "execution_count": 35,
     "metadata": {},
     "output_type": "execute_result"
    }
   ],
   "source": [
    "p.mass.lower_limit"
   ]
  },
  {
   "cell_type": "code",
   "execution_count": 36,
   "id": "ca814854",
   "metadata": {},
   "outputs": [
    {
     "data": {
      "text/plain": [
       "-1.0 MeV"
      ]
     },
     "execution_count": 36,
     "metadata": {},
     "output_type": "execute_result"
    }
   ],
   "source": [
    "p.mass.upper_limit"
   ]
  },
  {
   "cell_type": "code",
   "execution_count": 38,
   "id": "9a6913c9",
   "metadata": {},
   "outputs": [],
   "source": [
    "using Unitful"
   ]
  },
  {
   "cell_type": "code",
   "execution_count": 39,
   "id": "848043d5",
   "metadata": {},
   "outputs": [
    {
     "data": {
      "text/plain": [
       "-1.0 MeV ± -1.0 MeV"
      ]
     },
     "execution_count": 39,
     "metadata": {},
     "output_type": "execute_result"
    }
   ],
   "source": [
    "p.mass"
   ]
  },
  {
   "cell_type": "code",
   "execution_count": 40,
   "id": "a16b5af9",
   "metadata": {},
   "outputs": [
    {
     "data": {
      "text/plain": [
       "false"
      ]
     },
     "execution_count": 40,
     "metadata": {},
     "output_type": "execute_result"
    }
   ],
   "source": [
    "p.mass > 2036u\"MeV\""
   ]
  },
  {
   "cell_type": "code",
   "execution_count": 41,
   "id": "e7641203",
   "metadata": {},
   "outputs": [
    {
     "data": {
      "text/plain": [
       "false"
      ]
     },
     "execution_count": 41,
     "metadata": {},
     "output_type": "execute_result"
    }
   ],
   "source": [
    "p.mass > 1u\"MeV\""
   ]
  },
  {
   "cell_type": "code",
   "execution_count": 42,
   "id": "bc90dbd9",
   "metadata": {},
   "outputs": [
    {
     "data": {
      "text/plain": [
       "true"
      ]
     },
     "execution_count": 42,
     "metadata": {},
     "output_type": "execute_result"
    }
   ],
   "source": [
    "p.mass > -2u\"MeV\""
   ]
  },
  {
   "cell_type": "markdown",
   "id": "bbdb67db",
   "metadata": {},
   "source": [
    "## Particle Codes"
   ]
  },
  {
   "cell_type": "code",
   "execution_count": 43,
   "id": "ed54b293",
   "metadata": {},
   "outputs": [
    {
     "data": {
      "text/plain": [
       "Particle(-13) 'mu'"
      ]
     },
     "execution_count": 43,
     "metadata": {},
     "output_type": "execute_result"
    }
   ],
   "source": [
    "Particle(Geant3ID(5))"
   ]
  },
  {
   "cell_type": "markdown",
   "id": "b88365e1",
   "metadata": {},
   "source": [
    "## Finding Particles"
   ]
  },
  {
   "cell_type": "code",
   "execution_count": 44,
   "id": "962c4d76",
   "metadata": {},
   "outputs": [
    {
     "data": {
      "text/plain": [
       "8-element Vector{Particle}:\n",
       " Particle(18) 'nu(tau')'\n",
       " Particle(-12) 'nu(e)'\n",
       " Particle(-14) 'nu(mu)'\n",
       " Particle(-18) 'nu(tau')'\n",
       " Particle(-16) 'nu(tau)'\n",
       " Particle(16) 'nu(tau)'\n",
       " Particle(12) 'nu(e)'\n",
       " Particle(14) 'nu(mu)'"
      ]
     },
     "execution_count": 44,
     "metadata": {},
     "output_type": "execute_result"
    }
   ],
   "source": [
    "filter(p -> startswith(p.name, \"nu\"), particles())"
   ]
  },
  {
   "cell_type": "markdown",
   "id": "6d83575b",
   "metadata": {},
   "source": [
    "using regular experssion"
   ]
  },
  {
   "cell_type": "code",
   "execution_count": 45,
   "id": "e28f53c1",
   "metadata": {},
   "outputs": [
    {
     "data": {
      "text/plain": [
       "10-element Vector{Particle}:\n",
       " Particle(425) 'D(2)*(2460)'\n",
       " Particle(-415) 'D(2)*(2460)'\n",
       " Particle(-10421) 'D(0)*(2300)'\n",
       " Particle(-10411) 'D(0)*(2300)'\n",
       " Particle(-10423) 'D(1)(2420)'\n",
       " Particle(10421) 'D(0)*(2300)'\n",
       " Particle(415) 'D(2)*(2460)'\n",
       " Particle(10423) 'D(1)(2420)'\n",
       " Particle(10411) 'D(0)*(2300)'\n",
       " Particle(-425) 'D(2)*(2460)'"
      ]
     },
     "execution_count": 45,
     "metadata": {},
     "output_type": "execute_result"
    }
   ],
   "source": [
    "filter(p -> occursin(r\"D\\(\\d*\\)\", p.name), particles())"
   ]
  },
  {
   "cell_type": "markdown",
   "id": "cde62718",
   "metadata": {},
   "source": [
    "Another useful feature is the Particle(n::String, anti=false) which directly creates a (anti-)particle from a given name – as long as it exists in the currently loaded particle dataset:  -> 줄리아 1.7.3 에서 가동됨 "
   ]
  },
  {
   "cell_type": "code",
   "execution_count": 48,
   "id": "ddae3279",
   "metadata": {},
   "outputs": [
    {
     "ename": "LoadError",
     "evalue": "MethodError: no method matching Particle(::String)\n\u001b[0mClosest candidates are:\n\u001b[0m  Particle(::Any, \u001b[91m::Any\u001b[39m, \u001b[91m::Any\u001b[39m, \u001b[91m::Any\u001b[39m, \u001b[91m::Any\u001b[39m, \u001b[91m::Any\u001b[39m, \u001b[91m::Any\u001b[39m, \u001b[91m::Any\u001b[39m, \u001b[91m::Any\u001b[39m, \u001b[91m::Any\u001b[39m, \u001b[91m::Any\u001b[39m, \u001b[91m::Any\u001b[39m, \u001b[91m::Any\u001b[39m, \u001b[91m::Any\u001b[39m) at C:\\Users\\jeffr\\.julia\\packages\\Corpuscles\\7fjn7\\src\\Corpuscles.jl:96\n\u001b[0m  Particle(\u001b[91m::Integer\u001b[39m) at C:\\Users\\jeffr\\.julia\\packages\\Corpuscles\\7fjn7\\src\\Corpuscles.jl:121\n\u001b[0m  Particle(\u001b[91m::PDGID\u001b[39m, \u001b[91m::Corpuscles.MeasuredValue{𝐋^2 𝐌 𝐓^-2}\u001b[39m, \u001b[91m::Union{Missing, Corpuscles.MeasuredValue{𝐋^2 𝐌 𝐓^-2}}\u001b[39m, \u001b[91m::Quantity{T, 𝐈 𝐓, U} where {T<:Real, U<:Unitful.Units}\u001b[39m, \u001b[91m::Union{Missing, Rational{Int8}}\u001b[39m, \u001b[91m::Union{Missing, Int8}\u001b[39m, \u001b[91m::Union{Missing, Int8}\u001b[39m, \u001b[91m::Union{Missing, Int8}\u001b[39m, \u001b[91m::Corpuscles.InvProperty\u001b[39m, \u001b[91m::Int8\u001b[39m, \u001b[91m::Corpuscles.PDGStatus\u001b[39m, \u001b[91m::String\u001b[39m, \u001b[91m::String\u001b[39m, \u001b[91m::String\u001b[39m) at C:\\Users\\jeffr\\.julia\\packages\\Corpuscles\\7fjn7\\src\\Corpuscles.jl:96\n\u001b[0m  ...",
     "output_type": "error",
     "traceback": [
      "MethodError: no method matching Particle(::String)\n\u001b[0mClosest candidates are:\n\u001b[0m  Particle(::Any, \u001b[91m::Any\u001b[39m, \u001b[91m::Any\u001b[39m, \u001b[91m::Any\u001b[39m, \u001b[91m::Any\u001b[39m, \u001b[91m::Any\u001b[39m, \u001b[91m::Any\u001b[39m, \u001b[91m::Any\u001b[39m, \u001b[91m::Any\u001b[39m, \u001b[91m::Any\u001b[39m, \u001b[91m::Any\u001b[39m, \u001b[91m::Any\u001b[39m, \u001b[91m::Any\u001b[39m, \u001b[91m::Any\u001b[39m) at C:\\Users\\jeffr\\.julia\\packages\\Corpuscles\\7fjn7\\src\\Corpuscles.jl:96\n\u001b[0m  Particle(\u001b[91m::Integer\u001b[39m) at C:\\Users\\jeffr\\.julia\\packages\\Corpuscles\\7fjn7\\src\\Corpuscles.jl:121\n\u001b[0m  Particle(\u001b[91m::PDGID\u001b[39m, \u001b[91m::Corpuscles.MeasuredValue{𝐋^2 𝐌 𝐓^-2}\u001b[39m, \u001b[91m::Union{Missing, Corpuscles.MeasuredValue{𝐋^2 𝐌 𝐓^-2}}\u001b[39m, \u001b[91m::Quantity{T, 𝐈 𝐓, U} where {T<:Real, U<:Unitful.Units}\u001b[39m, \u001b[91m::Union{Missing, Rational{Int8}}\u001b[39m, \u001b[91m::Union{Missing, Int8}\u001b[39m, \u001b[91m::Union{Missing, Int8}\u001b[39m, \u001b[91m::Union{Missing, Int8}\u001b[39m, \u001b[91m::Corpuscles.InvProperty\u001b[39m, \u001b[91m::Int8\u001b[39m, \u001b[91m::Corpuscles.PDGStatus\u001b[39m, \u001b[91m::String\u001b[39m, \u001b[91m::String\u001b[39m, \u001b[91m::String\u001b[39m) at C:\\Users\\jeffr\\.julia\\packages\\Corpuscles\\7fjn7\\src\\Corpuscles.jl:96\n\u001b[0m  ...",
      "",
      "Stacktrace:",
      " [1] top-level scope",
      "   @ In[48]:1",
      " [2] eval",
      "   @ .\\boot.jl:368 [inlined]",
      " [3] include_string(mapexpr::typeof(REPL.softscope), mod::Module, code::String, filename::String)",
      "   @ Base .\\loading.jl:1428"
     ]
    }
   ],
   "source": [
    "Particle(\"mu\") == Particle(14)"
   ]
  },
  {
   "cell_type": "code",
   "execution_count": 50,
   "id": "e18bf01e",
   "metadata": {},
   "outputs": [
    {
     "ename": "LoadError",
     "evalue": "MethodError: no method matching Particle(::String; anti=false)\n\u001b[0mClosest candidates are:\n\u001b[0m  Particle(::Any, \u001b[91m::Any\u001b[39m, \u001b[91m::Any\u001b[39m, \u001b[91m::Any\u001b[39m, \u001b[91m::Any\u001b[39m, \u001b[91m::Any\u001b[39m, \u001b[91m::Any\u001b[39m, \u001b[91m::Any\u001b[39m, \u001b[91m::Any\u001b[39m, \u001b[91m::Any\u001b[39m, \u001b[91m::Any\u001b[39m, \u001b[91m::Any\u001b[39m, \u001b[91m::Any\u001b[39m, \u001b[91m::Any\u001b[39m) at C:\\Users\\jeffr\\.julia\\packages\\Corpuscles\\7fjn7\\src\\Corpuscles.jl:96\u001b[91m got unsupported keyword argument \"anti\"\u001b[39m\n\u001b[0m  Particle(\u001b[91m::Integer\u001b[39m) at C:\\Users\\jeffr\\.julia\\packages\\Corpuscles\\7fjn7\\src\\Corpuscles.jl:121\u001b[91m got unsupported keyword argument \"anti\"\u001b[39m\n\u001b[0m  Particle(\u001b[91m::PDGID\u001b[39m, \u001b[91m::Corpuscles.MeasuredValue{𝐋^2 𝐌 𝐓^-2}\u001b[39m, \u001b[91m::Union{Missing, Corpuscles.MeasuredValue{𝐋^2 𝐌 𝐓^-2}}\u001b[39m, \u001b[91m::Quantity{T, 𝐈 𝐓, U} where {T<:Real, U<:Unitful.Units}\u001b[39m, \u001b[91m::Union{Missing, Rational{Int8}}\u001b[39m, \u001b[91m::Union{Missing, Int8}\u001b[39m, \u001b[91m::Union{Missing, Int8}\u001b[39m, \u001b[91m::Union{Missing, Int8}\u001b[39m, \u001b[91m::Corpuscles.InvProperty\u001b[39m, \u001b[91m::Int8\u001b[39m, \u001b[91m::Corpuscles.PDGStatus\u001b[39m, \u001b[91m::String\u001b[39m, \u001b[91m::String\u001b[39m, \u001b[91m::String\u001b[39m) at C:\\Users\\jeffr\\.julia\\packages\\Corpuscles\\7fjn7\\src\\Corpuscles.jl:96\u001b[91m got unsupported keyword argument \"anti\"\u001b[39m\n\u001b[0m  ...",
     "output_type": "error",
     "traceback": [
      "MethodError: no method matching Particle(::String; anti=false)\n\u001b[0mClosest candidates are:\n\u001b[0m  Particle(::Any, \u001b[91m::Any\u001b[39m, \u001b[91m::Any\u001b[39m, \u001b[91m::Any\u001b[39m, \u001b[91m::Any\u001b[39m, \u001b[91m::Any\u001b[39m, \u001b[91m::Any\u001b[39m, \u001b[91m::Any\u001b[39m, \u001b[91m::Any\u001b[39m, \u001b[91m::Any\u001b[39m, \u001b[91m::Any\u001b[39m, \u001b[91m::Any\u001b[39m, \u001b[91m::Any\u001b[39m, \u001b[91m::Any\u001b[39m) at C:\\Users\\jeffr\\.julia\\packages\\Corpuscles\\7fjn7\\src\\Corpuscles.jl:96\u001b[91m got unsupported keyword argument \"anti\"\u001b[39m\n\u001b[0m  Particle(\u001b[91m::Integer\u001b[39m) at C:\\Users\\jeffr\\.julia\\packages\\Corpuscles\\7fjn7\\src\\Corpuscles.jl:121\u001b[91m got unsupported keyword argument \"anti\"\u001b[39m\n\u001b[0m  Particle(\u001b[91m::PDGID\u001b[39m, \u001b[91m::Corpuscles.MeasuredValue{𝐋^2 𝐌 𝐓^-2}\u001b[39m, \u001b[91m::Union{Missing, Corpuscles.MeasuredValue{𝐋^2 𝐌 𝐓^-2}}\u001b[39m, \u001b[91m::Quantity{T, 𝐈 𝐓, U} where {T<:Real, U<:Unitful.Units}\u001b[39m, \u001b[91m::Union{Missing, Rational{Int8}}\u001b[39m, \u001b[91m::Union{Missing, Int8}\u001b[39m, \u001b[91m::Union{Missing, Int8}\u001b[39m, \u001b[91m::Union{Missing, Int8}\u001b[39m, \u001b[91m::Corpuscles.InvProperty\u001b[39m, \u001b[91m::Int8\u001b[39m, \u001b[91m::Corpuscles.PDGStatus\u001b[39m, \u001b[91m::String\u001b[39m, \u001b[91m::String\u001b[39m, \u001b[91m::String\u001b[39m) at C:\\Users\\jeffr\\.julia\\packages\\Corpuscles\\7fjn7\\src\\Corpuscles.jl:96\u001b[91m got unsupported keyword argument \"anti\"\u001b[39m\n\u001b[0m  ...",
      "",
      "Stacktrace:",
      " [1] top-level scope",
      "   @ In[50]:1",
      " [2] eval",
      "   @ .\\boot.jl:368 [inlined]",
      " [3] include_string(mapexpr::typeof(REPL.softscope), mod::Module, code::String, filename::String)",
      "   @ Base .\\loading.jl:1428"
     ]
    }
   ],
   "source": [
    "-Particle(\"mu\", anti = false) == Particle(-13)"
   ]
  }
 ],
 "metadata": {
  "hide_input": false,
  "kernelspec": {
   "display_name": "Julia 1.8.0",
   "language": "julia",
   "name": "julia-1.8"
  },
  "language_info": {
   "file_extension": ".jl",
   "mimetype": "application/julia",
   "name": "julia",
   "version": "1.8.0"
  }
 },
 "nbformat": 4,
 "nbformat_minor": 5
}
