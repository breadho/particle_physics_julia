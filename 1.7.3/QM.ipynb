{
 "cells": [
  {
   "cell_type": "markdown",
   "id": "d40e9390-727d-4d60-9000-8a55c229ccf6",
   "metadata": {},
   "source": [
    "# Speeding up Quantum Mechanics - Matrix Types"
   ]
  },
  {
   "cell_type": "code",
   "execution_count": 1,
   "id": "beca7c45-0bfe-46e5-a3be-f1eba5bc1444",
   "metadata": {},
   "outputs": [
    {
     "data": {
      "text/plain": [
       "100×100 Matrix{Float64}:\n",
       " -0.5  -1.0   0.0   0.0   0.0   0.0  …   0.0   0.0   0.0   0.0   0.0   0.0\n",
       " -1.0  -0.5  -1.0   0.0   0.0   0.0      0.0   0.0   0.0   0.0   0.0   0.0\n",
       "  0.0  -1.0  -0.5  -1.0   0.0   0.0      0.0   0.0   0.0   0.0   0.0   0.0\n",
       "  0.0   0.0  -1.0  -0.5  -1.0   0.0      0.0   0.0   0.0   0.0   0.0   0.0\n",
       "  0.0   0.0   0.0  -1.0  -0.5  -1.0      0.0   0.0   0.0   0.0   0.0   0.0\n",
       "  0.0   0.0   0.0   0.0  -1.0  -0.5  …   0.0   0.0   0.0   0.0   0.0   0.0\n",
       "  0.0   0.0   0.0   0.0   0.0  -1.0      0.0   0.0   0.0   0.0   0.0   0.0\n",
       "  0.0   0.0   0.0   0.0   0.0   0.0      0.0   0.0   0.0   0.0   0.0   0.0\n",
       "  0.0   0.0   0.0   0.0   0.0   0.0      0.0   0.0   0.0   0.0   0.0   0.0\n",
       "  0.0   0.0   0.0   0.0   0.0   0.0      0.0   0.0   0.0   0.0   0.0   0.0\n",
       "  0.0   0.0   0.0   0.0   0.0   0.0  …   0.0   0.0   0.0   0.0   0.0   0.0\n",
       "  0.0   0.0   0.0   0.0   0.0   0.0      0.0   0.0   0.0   0.0   0.0   0.0\n",
       "  0.0   0.0   0.0   0.0   0.0   0.0      0.0   0.0   0.0   0.0   0.0   0.0\n",
       "  ⋮                             ⋮    ⋱         ⋮                      \n",
       "  0.0   0.0   0.0   0.0   0.0   0.0      0.0   0.0   0.0   0.0   0.0   0.0\n",
       "  0.0   0.0   0.0   0.0   0.0   0.0      0.0   0.0   0.0   0.0   0.0   0.0\n",
       "  0.0   0.0   0.0   0.0   0.0   0.0  …   0.0   0.0   0.0   0.0   0.0   0.0\n",
       "  0.0   0.0   0.0   0.0   0.0   0.0      0.0   0.0   0.0   0.0   0.0   0.0\n",
       "  0.0   0.0   0.0   0.0   0.0   0.0      0.0   0.0   0.0   0.0   0.0   0.0\n",
       "  0.0   0.0   0.0   0.0   0.0   0.0     -1.0   0.0   0.0   0.0   0.0   0.0\n",
       "  0.0   0.0   0.0   0.0   0.0   0.0     -0.5  -1.0   0.0   0.0   0.0   0.0\n",
       "  0.0   0.0   0.0   0.0   0.0   0.0  …  -1.0  -0.5  -1.0   0.0   0.0   0.0\n",
       "  0.0   0.0   0.0   0.0   0.0   0.0      0.0  -1.0  -0.5  -1.0   0.0   0.0\n",
       "  0.0   0.0   0.0   0.0   0.0   0.0      0.0   0.0  -1.0  -0.5  -1.0   0.0\n",
       "  0.0   0.0   0.0   0.0   0.0   0.0      0.0   0.0   0.0  -1.0  -0.5  -1.0\n",
       "  0.0   0.0   0.0   0.0   0.0   0.0      0.0   0.0   0.0   0.0  -1.0  -0.5"
      ]
     },
     "execution_count": 1,
     "metadata": {},
     "output_type": "execute_result"
    }
   ],
   "source": [
    "using LinearAlgebra # makes Julia speak linear algebra fluently\n",
    "\n",
    "N = 100 # number of sites\n",
    "t = 1\n",
    "μ = -0.5\n",
    "\n",
    "H = diagm(0 => fill(μ, N), 1 => fill(-t, N-1), -1 => fill(-t, N-1))"
   ]
  },
  {
   "cell_type": "code",
   "execution_count": 2,
   "id": "4e689351-35d7-4e13-94dc-172384eeff9f",
   "metadata": {},
   "outputs": [],
   "source": [
    "ψ = normalize(rand(N)); # some state  \\psi + [TAB]"
   ]
  },
  {
   "cell_type": "code",
   "execution_count": 4,
   "id": "3c86b213-2f24-4e28-b44f-abcdc8d1fe07",
   "metadata": {},
   "outputs": [],
   "source": [
    "\"\"\"\n",
    "    ev(O, ψ)\n",
    "\n",
    "Calculates the quantum mechanical expectation value `<ψ|O|ψ>`, where `O` is an operator and `ψ` is a state.\n",
    "\"\"\"\n",
    "ev(O, ψ) = ψ'*O*ψ;"
   ]
  },
  {
   "cell_type": "code",
   "execution_count": 5,
   "id": "ae9185bc-b6b5-4692-9fa3-89e83cff1884",
   "metadata": {},
   "outputs": [
    {
     "data": {
      "text/plain": [
       "-2.1682488620444302"
      ]
     },
     "execution_count": 5,
     "metadata": {},
     "output_type": "execute_result"
    }
   ],
   "source": [
    "ev(H, ψ) # calculate the energy"
   ]
  },
  {
   "cell_type": "code",
   "execution_count": 7,
   "id": "abe6aec4-7e58-46d0-ae76-d47792b123b4",
   "metadata": {},
   "outputs": [
    {
     "name": "stdout",
     "output_type": "stream",
     "text": [
      "  28.700 μs (1 allocation: 896 bytes)\n"
     ]
    }
   ],
   "source": [
    "using BenchmarkTools\n",
    "@btime ev($H, $ψ);"
   ]
  },
  {
   "cell_type": "markdown",
   "id": "b25d6aa0-8374-4515-ae8a-37d2135f1cb9",
   "metadata": {},
   "source": [
    "## Utilizing the matrix structure"
   ]
  },
  {
   "cell_type": "code",
   "execution_count": 8,
   "id": "b251035a-ce5c-4af3-8600-7d38c052e686",
   "metadata": {},
   "outputs": [
    {
     "data": {
      "text/plain": [
       "100×100 SparseMatrixCSC{Float64, Int64} with 298 stored entries:\n",
       "⠻⣦⡀⠀⠀⠀⠀⠀⠀⠀⠀⠀⠀⠀⠀⠀⠀⠀⠀⠀⠀⠀⠀⠀⠀⠀⠀⠀⠀⠀⠀⠀⠀⠀⠀⠀⠀⠀⠀⠀\n",
       "⠀⠈⠻⣦⡀⠀⠀⠀⠀⠀⠀⠀⠀⠀⠀⠀⠀⠀⠀⠀⠀⠀⠀⠀⠀⠀⠀⠀⠀⠀⠀⠀⠀⠀⠀⠀⠀⠀⠀⠀\n",
       "⠀⠀⠀⠈⠻⣦⡀⠀⠀⠀⠀⠀⠀⠀⠀⠀⠀⠀⠀⠀⠀⠀⠀⠀⠀⠀⠀⠀⠀⠀⠀⠀⠀⠀⠀⠀⠀⠀⠀⠀\n",
       "⠀⠀⠀⠀⠀⠈⠻⣦⡀⠀⠀⠀⠀⠀⠀⠀⠀⠀⠀⠀⠀⠀⠀⠀⠀⠀⠀⠀⠀⠀⠀⠀⠀⠀⠀⠀⠀⠀⠀⠀\n",
       "⠀⠀⠀⠀⠀⠀⠀⠈⠻⣦⡀⠀⠀⠀⠀⠀⠀⠀⠀⠀⠀⠀⠀⠀⠀⠀⠀⠀⠀⠀⠀⠀⠀⠀⠀⠀⠀⠀⠀⠀\n",
       "⠀⠀⠀⠀⠀⠀⠀⠀⠀⠈⠻⣦⡀⠀⠀⠀⠀⠀⠀⠀⠀⠀⠀⠀⠀⠀⠀⠀⠀⠀⠀⠀⠀⠀⠀⠀⠀⠀⠀⠀\n",
       "⠀⠀⠀⠀⠀⠀⠀⠀⠀⠀⠀⠈⠻⣦⡀⠀⠀⠀⠀⠀⠀⠀⠀⠀⠀⠀⠀⠀⠀⠀⠀⠀⠀⠀⠀⠀⠀⠀⠀⠀\n",
       "⠀⠀⠀⠀⠀⠀⠀⠀⠀⠀⠀⠀⠀⠈⠻⣦⡀⠀⠀⠀⠀⠀⠀⠀⠀⠀⠀⠀⠀⠀⠀⠀⠀⠀⠀⠀⠀⠀⠀⠀\n",
       "⠀⠀⠀⠀⠀⠀⠀⠀⠀⠀⠀⠀⠀⠀⠀⠈⠻⣦⡀⠀⠀⠀⠀⠀⠀⠀⠀⠀⠀⠀⠀⠀⠀⠀⠀⠀⠀⠀⠀⠀\n",
       "⠀⠀⠀⠀⠀⠀⠀⠀⠀⠀⠀⠀⠀⠀⠀⠀⠀⠈⠻⣦⡀⠀⠀⠀⠀⠀⠀⠀⠀⠀⠀⠀⠀⠀⠀⠀⠀⠀⠀⠀\n",
       "⠀⠀⠀⠀⠀⠀⠀⠀⠀⠀⠀⠀⠀⠀⠀⠀⠀⠀⠀⠈⠻⣦⡀⠀⠀⠀⠀⠀⠀⠀⠀⠀⠀⠀⠀⠀⠀⠀⠀⠀\n",
       "⠀⠀⠀⠀⠀⠀⠀⠀⠀⠀⠀⠀⠀⠀⠀⠀⠀⠀⠀⠀⠀⠈⠻⣦⡀⠀⠀⠀⠀⠀⠀⠀⠀⠀⠀⠀⠀⠀⠀⠀\n",
       "⠀⠀⠀⠀⠀⠀⠀⠀⠀⠀⠀⠀⠀⠀⠀⠀⠀⠀⠀⠀⠀⠀⠀⠈⠻⣦⡀⠀⠀⠀⠀⠀⠀⠀⠀⠀⠀⠀⠀⠀\n",
       "⠀⠀⠀⠀⠀⠀⠀⠀⠀⠀⠀⠀⠀⠀⠀⠀⠀⠀⠀⠀⠀⠀⠀⠀⠀⠈⠻⣦⡀⠀⠀⠀⠀⠀⠀⠀⠀⠀⠀⠀\n",
       "⠀⠀⠀⠀⠀⠀⠀⠀⠀⠀⠀⠀⠀⠀⠀⠀⠀⠀⠀⠀⠀⠀⠀⠀⠀⠀⠀⠈⠻⣦⡀⠀⠀⠀⠀⠀⠀⠀⠀⠀\n",
       "⠀⠀⠀⠀⠀⠀⠀⠀⠀⠀⠀⠀⠀⠀⠀⠀⠀⠀⠀⠀⠀⠀⠀⠀⠀⠀⠀⠀⠀⠈⠻⣦⡀⠀⠀⠀⠀⠀⠀⠀\n",
       "⠀⠀⠀⠀⠀⠀⠀⠀⠀⠀⠀⠀⠀⠀⠀⠀⠀⠀⠀⠀⠀⠀⠀⠀⠀⠀⠀⠀⠀⠀⠀⠈⠻⣦⡀⠀⠀⠀⠀⠀\n",
       "⠀⠀⠀⠀⠀⠀⠀⠀⠀⠀⠀⠀⠀⠀⠀⠀⠀⠀⠀⠀⠀⠀⠀⠀⠀⠀⠀⠀⠀⠀⠀⠀⠀⠈⠻⣦⡀⠀⠀⠀\n",
       "⠀⠀⠀⠀⠀⠀⠀⠀⠀⠀⠀⠀⠀⠀⠀⠀⠀⠀⠀⠀⠀⠀⠀⠀⠀⠀⠀⠀⠀⠀⠀⠀⠀⠀⠀⠈⠻⣦⡀⠀\n",
       "⠀⠀⠀⠀⠀⠀⠀⠀⠀⠀⠀⠀⠀⠀⠀⠀⠀⠀⠀⠀⠀⠀⠀⠀⠀⠀⠀⠀⠀⠀⠀⠀⠀⠀⠀⠀⠀⠈⠻⣦"
      ]
     },
     "execution_count": 8,
     "metadata": {},
     "output_type": "execute_result"
    }
   ],
   "source": [
    "using SparseArrays\n",
    "Hsparse = sparse(H)"
   ]
  },
  {
   "cell_type": "code",
   "execution_count": 9,
   "id": "f3cd953f-a9f5-4602-8e69-d719ebafb502",
   "metadata": {},
   "outputs": [
    {
     "data": {
      "text/plain": [
       "SparseMatrixCSC{Float64, Int64}"
      ]
     },
     "execution_count": 9,
     "metadata": {},
     "output_type": "execute_result"
    }
   ],
   "source": [
    "typeof(Hsparse)"
   ]
  },
  {
   "cell_type": "code",
   "execution_count": 10,
   "id": "6ea8850d-36cc-4c1e-8336-5f134312549e",
   "metadata": {},
   "outputs": [
    {
     "name": "stdout",
     "output_type": "stream",
     "text": [
      "  213.019 ns (1 allocation: 896 bytes)\n"
     ]
    }
   ],
   "source": [
    "@btime ev($Hsparse, $ψ);"
   ]
  },
  {
   "cell_type": "markdown",
   "id": "89ea374a-e06b-4559-b936-22ea8740e6d6",
   "metadata": {},
   "source": [
    "## Interlude: Visualizing matrix structure"
   ]
  },
  {
   "cell_type": "code",
   "execution_count": 12,
   "id": "d769ea13-18c2-4fc6-80d3-b42532072aa2",
   "metadata": {},
   "outputs": [
    {
     "data": {
      "text/plain": [
       "       \u001b[38;5;8m┌──────────────────────────────────────────┐\u001b[0m    \n",
       "     \u001b[38;5;8m1\u001b[0m \u001b[38;5;8m│\u001b[0m\u001b[38;5;4m:\u001b[0m\u001b[38;5;4m:\u001b[0m\u001b[38;5;4m.\u001b[0m                                       \u001b[38;5;8m│\u001b[0m \u001b[38;5;1m> 0\u001b[0m\n",
       "      \u001b[38;5;8m\u001b[0m \u001b[38;5;8m│\u001b[0m \u001b[38;5;4m'\u001b[0m\u001b[38;5;4m:\u001b[0m\u001b[38;5;4m:\u001b[0m\u001b[38;5;4m.\u001b[0m                                     \u001b[38;5;8m│\u001b[0m \u001b[38;5;4m< 0\u001b[0m\n",
       "      \u001b[38;5;8m\u001b[0m \u001b[38;5;8m│\u001b[0m   \u001b[38;5;4m'\u001b[0m\u001b[38;5;4m:\u001b[0m\u001b[38;5;4m:\u001b[0m\u001b[38;5;4m.\u001b[0m                                   \u001b[38;5;8m│\u001b[0m \u001b[38;5;8m\u001b[0m   \n",
       "      \u001b[38;5;8m\u001b[0m \u001b[38;5;8m│\u001b[0m     \u001b[38;5;4m'\u001b[0m\u001b[38;5;4m:\u001b[0m\u001b[38;5;4m:\u001b[0m\u001b[38;5;4m.\u001b[0m                                 \u001b[38;5;8m│\u001b[0m \u001b[38;5;8m\u001b[0m   \n",
       "      \u001b[38;5;8m\u001b[0m \u001b[38;5;8m│\u001b[0m       \u001b[38;5;4m'\u001b[0m\u001b[38;5;4m:\u001b[0m\u001b[38;5;4m:\u001b[0m\u001b[38;5;4m.\u001b[0m                               \u001b[38;5;8m│\u001b[0m \u001b[38;5;8m\u001b[0m   \n",
       "      \u001b[38;5;8m\u001b[0m \u001b[38;5;8m│\u001b[0m         \u001b[38;5;4m'\u001b[0m\u001b[38;5;4m:\u001b[0m\u001b[38;5;4m:\u001b[0m\u001b[38;5;4m.\u001b[0m                             \u001b[38;5;8m│\u001b[0m \u001b[38;5;8m\u001b[0m   \n",
       "      \u001b[38;5;8m\u001b[0m \u001b[38;5;8m│\u001b[0m           \u001b[38;5;4m'\u001b[0m\u001b[38;5;4m:\u001b[0m\u001b[38;5;4m:\u001b[0m\u001b[38;5;4m.\u001b[0m                           \u001b[38;5;8m│\u001b[0m \u001b[38;5;8m\u001b[0m   \n",
       "      \u001b[38;5;8m\u001b[0m \u001b[38;5;8m│\u001b[0m             \u001b[38;5;4m'\u001b[0m\u001b[38;5;4m:\u001b[0m\u001b[38;5;4m:\u001b[0m\u001b[38;5;4m.\u001b[0m                         \u001b[38;5;8m│\u001b[0m \u001b[38;5;8m\u001b[0m   \n",
       "      \u001b[38;5;8m\u001b[0m \u001b[38;5;8m│\u001b[0m               \u001b[38;5;4m'\u001b[0m\u001b[38;5;4m:\u001b[0m\u001b[38;5;4m:\u001b[0m\u001b[38;5;4m.\u001b[0m                       \u001b[38;5;8m│\u001b[0m \u001b[38;5;8m\u001b[0m   \n",
       "      \u001b[38;5;8m\u001b[0m \u001b[38;5;8m│\u001b[0m                 \u001b[38;5;4m'\u001b[0m\u001b[38;5;4m:\u001b[0m\u001b[38;5;4m:\u001b[0m\u001b[38;5;4m.\u001b[0m                     \u001b[38;5;8m│\u001b[0m \u001b[38;5;8m\u001b[0m   \n",
       "      \u001b[38;5;8m\u001b[0m \u001b[38;5;8m│\u001b[0m                   \u001b[38;5;4m'\u001b[0m\u001b[38;5;4m:\u001b[0m\u001b[38;5;4m:\u001b[0m\u001b[38;5;4m.\u001b[0m                   \u001b[38;5;8m│\u001b[0m \u001b[38;5;8m\u001b[0m   \n",
       "      \u001b[38;5;8m\u001b[0m \u001b[38;5;8m│\u001b[0m                     \u001b[38;5;4m'\u001b[0m\u001b[38;5;4m:\u001b[0m\u001b[38;5;4m:\u001b[0m\u001b[38;5;4m.\u001b[0m                 \u001b[38;5;8m│\u001b[0m \u001b[38;5;8m\u001b[0m   \n",
       "      \u001b[38;5;8m\u001b[0m \u001b[38;5;8m│\u001b[0m                       \u001b[38;5;4m'\u001b[0m\u001b[38;5;4m:\u001b[0m\u001b[38;5;4m:\u001b[0m\u001b[38;5;4m.\u001b[0m               \u001b[38;5;8m│\u001b[0m \u001b[38;5;8m\u001b[0m   \n",
       "      \u001b[38;5;8m\u001b[0m \u001b[38;5;8m│\u001b[0m                         \u001b[38;5;4m'\u001b[0m\u001b[38;5;4m:\u001b[0m\u001b[38;5;4m:\u001b[0m\u001b[38;5;4m.\u001b[0m             \u001b[38;5;8m│\u001b[0m \u001b[38;5;8m\u001b[0m   \n",
       "      \u001b[38;5;8m\u001b[0m \u001b[38;5;8m│\u001b[0m                           \u001b[38;5;4m'\u001b[0m\u001b[38;5;4m:\u001b[0m\u001b[38;5;4m:\u001b[0m\u001b[38;5;4m.\u001b[0m           \u001b[38;5;8m│\u001b[0m \u001b[38;5;8m\u001b[0m   \n",
       "      \u001b[38;5;8m\u001b[0m \u001b[38;5;8m│\u001b[0m                             \u001b[38;5;4m'\u001b[0m\u001b[38;5;4m:\u001b[0m\u001b[38;5;4m:\u001b[0m\u001b[38;5;4m.\u001b[0m         \u001b[38;5;8m│\u001b[0m \u001b[38;5;8m\u001b[0m   \n",
       "      \u001b[38;5;8m\u001b[0m \u001b[38;5;8m│\u001b[0m                               \u001b[38;5;4m'\u001b[0m\u001b[38;5;4m:\u001b[0m\u001b[38;5;4m:\u001b[0m\u001b[38;5;4m.\u001b[0m       \u001b[38;5;8m│\u001b[0m \u001b[38;5;8m\u001b[0m   \n",
       "      \u001b[38;5;8m\u001b[0m \u001b[38;5;8m│\u001b[0m                                 \u001b[38;5;4m'\u001b[0m\u001b[38;5;4m:\u001b[0m\u001b[38;5;4m:\u001b[0m\u001b[38;5;4m.\u001b[0m     \u001b[38;5;8m│\u001b[0m \u001b[38;5;8m\u001b[0m   \n",
       "      \u001b[38;5;8m\u001b[0m \u001b[38;5;8m│\u001b[0m                                   \u001b[38;5;4m'\u001b[0m\u001b[38;5;4m:\u001b[0m\u001b[38;5;4m:\u001b[0m\u001b[38;5;4m.\u001b[0m   \u001b[38;5;8m│\u001b[0m \u001b[38;5;8m\u001b[0m   \n",
       "      \u001b[38;5;8m\u001b[0m \u001b[38;5;8m│\u001b[0m                                     \u001b[38;5;4m'\u001b[0m\u001b[38;5;4m:\u001b[0m\u001b[38;5;4m:\u001b[0m\u001b[38;5;4m.\u001b[0m \u001b[38;5;8m│\u001b[0m \u001b[38;5;8m\u001b[0m   \n",
       "   \u001b[38;5;8m100\u001b[0m \u001b[38;5;8m│\u001b[0m                                       \u001b[38;5;4m'\u001b[0m\u001b[38;5;4m:\u001b[0m\u001b[38;5;4m:\u001b[0m\u001b[38;5;8m│\u001b[0m \u001b[38;5;8m\u001b[0m   \n",
       "       \u001b[38;5;8m└──────────────────────────────────────────┘\u001b[0m    \n",
       "        \u001b[38;5;8m1\u001b[0m                   \u001b[38;5;8m\u001b[0m                   \u001b[38;5;8m100\u001b[0m     \n",
       "                       298 nonzeros                    "
      ]
     },
     "execution_count": 12,
     "metadata": {},
     "output_type": "execute_result"
    }
   ],
   "source": [
    "using UnicodePlots\n",
    "spy(H, canvas=DotCanvas) # sparsity pattern plot"
   ]
  },
  {
   "cell_type": "code",
   "execution_count": 13,
   "id": "b951a87d-af92-49b1-a4f5-05480502414f",
   "metadata": {},
   "outputs": [
    {
     "data": {
      "text/plain": [
       "100×100 Tridiagonal{Float64, Vector{Float64}}:\n",
       " -0.5  -1.0    ⋅     ⋅     ⋅     ⋅   …    ⋅     ⋅     ⋅     ⋅     ⋅     ⋅ \n",
       " -1.0  -0.5  -1.0    ⋅     ⋅     ⋅        ⋅     ⋅     ⋅     ⋅     ⋅     ⋅ \n",
       "   ⋅   -1.0  -0.5  -1.0    ⋅     ⋅        ⋅     ⋅     ⋅     ⋅     ⋅     ⋅ \n",
       "   ⋅     ⋅   -1.0  -0.5  -1.0    ⋅        ⋅     ⋅     ⋅     ⋅     ⋅     ⋅ \n",
       "   ⋅     ⋅     ⋅   -1.0  -0.5  -1.0       ⋅     ⋅     ⋅     ⋅     ⋅     ⋅ \n",
       "   ⋅     ⋅     ⋅     ⋅   -1.0  -0.5  …    ⋅     ⋅     ⋅     ⋅     ⋅     ⋅ \n",
       "   ⋅     ⋅     ⋅     ⋅     ⋅   -1.0       ⋅     ⋅     ⋅     ⋅     ⋅     ⋅ \n",
       "   ⋅     ⋅     ⋅     ⋅     ⋅     ⋅        ⋅     ⋅     ⋅     ⋅     ⋅     ⋅ \n",
       "   ⋅     ⋅     ⋅     ⋅     ⋅     ⋅        ⋅     ⋅     ⋅     ⋅     ⋅     ⋅ \n",
       "   ⋅     ⋅     ⋅     ⋅     ⋅     ⋅        ⋅     ⋅     ⋅     ⋅     ⋅     ⋅ \n",
       "   ⋅     ⋅     ⋅     ⋅     ⋅     ⋅   …    ⋅     ⋅     ⋅     ⋅     ⋅     ⋅ \n",
       "   ⋅     ⋅     ⋅     ⋅     ⋅     ⋅        ⋅     ⋅     ⋅     ⋅     ⋅     ⋅ \n",
       "   ⋅     ⋅     ⋅     ⋅     ⋅     ⋅        ⋅     ⋅     ⋅     ⋅     ⋅     ⋅ \n",
       "  ⋮                             ⋮    ⋱         ⋮                      \n",
       "   ⋅     ⋅     ⋅     ⋅     ⋅     ⋅        ⋅     ⋅     ⋅     ⋅     ⋅     ⋅ \n",
       "   ⋅     ⋅     ⋅     ⋅     ⋅     ⋅        ⋅     ⋅     ⋅     ⋅     ⋅     ⋅ \n",
       "   ⋅     ⋅     ⋅     ⋅     ⋅     ⋅   …    ⋅     ⋅     ⋅     ⋅     ⋅     ⋅ \n",
       "   ⋅     ⋅     ⋅     ⋅     ⋅     ⋅        ⋅     ⋅     ⋅     ⋅     ⋅     ⋅ \n",
       "   ⋅     ⋅     ⋅     ⋅     ⋅     ⋅        ⋅     ⋅     ⋅     ⋅     ⋅     ⋅ \n",
       "   ⋅     ⋅     ⋅     ⋅     ⋅     ⋅      -1.0    ⋅     ⋅     ⋅     ⋅     ⋅ \n",
       "   ⋅     ⋅     ⋅     ⋅     ⋅     ⋅      -0.5  -1.0    ⋅     ⋅     ⋅     ⋅ \n",
       "   ⋅     ⋅     ⋅     ⋅     ⋅     ⋅   …  -1.0  -0.5  -1.0    ⋅     ⋅     ⋅ \n",
       "   ⋅     ⋅     ⋅     ⋅     ⋅     ⋅        ⋅   -1.0  -0.5  -1.0    ⋅     ⋅ \n",
       "   ⋅     ⋅     ⋅     ⋅     ⋅     ⋅        ⋅     ⋅   -1.0  -0.5  -1.0    ⋅ \n",
       "   ⋅     ⋅     ⋅     ⋅     ⋅     ⋅        ⋅     ⋅     ⋅   -1.0  -0.5  -1.0\n",
       "   ⋅     ⋅     ⋅     ⋅     ⋅     ⋅        ⋅     ⋅     ⋅     ⋅   -1.0  -0.5"
      ]
     },
     "execution_count": 13,
     "metadata": {},
     "output_type": "execute_result"
    }
   ],
   "source": [
    "Htri = Tridiagonal(H)"
   ]
  },
  {
   "cell_type": "code",
   "execution_count": 14,
   "id": "bbbaa98e-cc5d-4531-bd55-101831d76ba7",
   "metadata": {},
   "outputs": [
    {
     "name": "stdout",
     "output_type": "stream",
     "text": [
      "  105.229 ns (2 allocations: 944 bytes)\n"
     ]
    }
   ],
   "source": [
    "@btime ev($Htri, $ψ);"
   ]
  },
  {
   "cell_type": "markdown",
   "id": "87d1a429-072b-4331-b67c-11a3e5c4cb6d",
   "metadata": {},
   "source": [
    "# Quantum Ising Phase Transition"
   ]
  },
  {
   "cell_type": "markdown",
   "id": "dfb63f78-3583-42d9-9ba2-01e7512d553a",
   "metadata": {},
   "source": [
    "## Introduction"
   ]
  },
  {
   "cell_type": "markdown",
   "id": "10e97e15-74b3-4081-9f38-9e68d2de2a66",
   "metadata": {},
   "source": [
    "내용 채우기"
   ]
  },
  {
   "cell_type": "markdown",
   "id": "205fae45-3e6b-4d94-9796-7b9165f8d57e",
   "metadata": {},
   "source": [
    "## Transverse field quantum Ising chain"
   ]
  },
  {
   "cell_type": "code",
   "execution_count": 15,
   "id": "a6eba0ef-afd1-406e-9b62-e2b1b5b956fd",
   "metadata": {},
   "outputs": [
    {
     "data": {
      "text/plain": [
       "2×2 Matrix{Int64}:\n",
       " 1   0\n",
       " 0  -1"
      ]
     },
     "execution_count": 15,
     "metadata": {},
     "output_type": "execute_result"
    }
   ],
   "source": [
    "σᶻ = [1 0; 0 -1] # \\sigma <TAB> followed by \\^z <TAB>"
   ]
  },
  {
   "cell_type": "code",
   "execution_count": 16,
   "id": "16ee6f41-09d5-45bc-ad03-228e6acfbe83",
   "metadata": {},
   "outputs": [
    {
     "data": {
      "text/plain": [
       "2×2 Matrix{Int64}:\n",
       " 0  1\n",
       " 1  0"
      ]
     },
     "execution_count": 16,
     "metadata": {},
     "output_type": "execute_result"
    }
   ],
   "source": [
    "σˣ = [0 1; 1 0]"
   ]
  },
  {
   "cell_type": "code",
   "execution_count": null,
   "id": "560ebda1-f8af-48f1-9262-61ea56154313",
   "metadata": {},
   "outputs": [],
   "source": []
  },
  {
   "cell_type": "markdown",
   "id": "0623cbde-1d97-4296-811b-cb7382ac274f",
   "metadata": {},
   "source": [
    "## Building the Hamiltonian matrix"
   ]
  },
  {
   "cell_type": "code",
   "execution_count": 17,
   "id": "4771bac5-5d7a-436b-8351-051e28fcca30",
   "metadata": {},
   "outputs": [
    {
     "data": {
      "text/plain": [
       "4×4 Matrix{Int64}:\n",
       " 1   0   0  0\n",
       " 0  -1   0  0\n",
       " 0   0  -1  0\n",
       " 0   0   0  1"
      ]
     },
     "execution_count": 17,
     "metadata": {},
     "output_type": "execute_result"
    }
   ],
   "source": [
    "kron(σᶻ,σᶻ) # this is the matrix of the tensor product σᶻᵢ⊗ σᶻⱼ (⊗ = \\otimes <TAB>)"
   ]
  },
  {
   "cell_type": "code",
   "execution_count": 18,
   "id": "43e3fa44-7e25-40bc-a1a1-3b3efb8f5fe6",
   "metadata": {},
   "outputs": [
    {
     "data": {
      "text/plain": [
       "⊗ (generic function with 1 method)"
      ]
     },
     "execution_count": 18,
     "metadata": {},
     "output_type": "execute_result"
    }
   ],
   "source": [
    "⊗(x,y) = kron(x,y)"
   ]
  },
  {
   "cell_type": "code",
   "execution_count": 19,
   "id": "ad71666c-9757-4033-b53e-61d6cad5ce10",
   "metadata": {},
   "outputs": [
    {
     "data": {
      "text/plain": [
       "4×4 Matrix{Int64}:\n",
       " 1   0   0  0\n",
       " 0  -1   0  0\n",
       " 0   0  -1  0\n",
       " 0   0   0  1"
      ]
     },
     "execution_count": 19,
     "metadata": {},
     "output_type": "execute_result"
    }
   ],
   "source": [
    "σᶻ ⊗ σᶻ"
   ]
  },
  {
   "cell_type": "markdown",
   "id": "05d7e059-2f52-463d-9843-a89367f5d20f",
   "metadata": {},
   "source": [
    "## Explicit 4-site Hamiltonian"
   ]
  },
  {
   "cell_type": "markdown",
   "id": "d8e01f53-d547-44cb-8ab0-2b4e19714838",
   "metadata": {},
   "source": [
    "$H_4 = -\\hat{\\sigma_1^z}\\hat{\\sigma_2^z}\\hat{I_{3}}\\hat{I_{4}} - \\hat{I_{1}}\\hat{\\sigma_2^z}\\hat{\\sigma_3^z}\\hat{I_{4}}-\\hat{I_{1}}\\hat{I_{2}}\\hat{\\sigma_3^z}\\hat{\\sigma_4^z}-h\\left (\\hat{\\sigma_1^x}\\hat{I_{2}}\\hat{I_{3}}\\hat{I_{4}} + \\hat{I_{1}}\\hat{\\sigma_2^x}\\hat{I_{3}}\\hat{I_{4}} + \\hat{I_{1}}\\hat{I_{2}}\\hat{\\sigma_3^x}\\hat{I_{4}} + \\hat{I_{1}}\\hat{I_{2}}\\hat{I_{3}}\\hat{\\sigma_4^x} \\right )$"
   ]
  },
  {
   "cell_type": "code",
   "execution_count": 20,
   "id": "e3987db6-efe3-48e3-80fe-2a2e41312c2c",
   "metadata": {},
   "outputs": [
    {
     "data": {
      "text/plain": [
       "2×2 Matrix{Int64}:\n",
       " 1  0\n",
       " 0  1"
      ]
     },
     "execution_count": 20,
     "metadata": {},
     "output_type": "execute_result"
    }
   ],
   "source": [
    "id = [1 0; 0 1] # identity matrix"
   ]
  },
  {
   "cell_type": "code",
   "execution_count": 21,
   "id": "350d7757-0293-4834-87ad-aaa47f4f8b29",
   "metadata": {},
   "outputs": [
    {
     "data": {
      "text/plain": [
       "16×16 Matrix{Int64}:\n",
       " -3  -1  -1   0  -1   0   0   0  -1   0   0   0   0   0   0   0\n",
       " -1  -1   0  -1   0  -1   0   0   0  -1   0   0   0   0   0   0\n",
       " -1   0   1  -1   0   0  -1   0   0   0  -1   0   0   0   0   0\n",
       "  0  -1  -1  -1   0   0   0  -1   0   0   0  -1   0   0   0   0\n",
       " -1   0   0   0   1  -1  -1   0   0   0   0   0  -1   0   0   0\n",
       "  0  -1   0   0  -1   3   0  -1   0   0   0   0   0  -1   0   0\n",
       "  0   0  -1   0  -1   0   1  -1   0   0   0   0   0   0  -1   0\n",
       "  0   0   0  -1   0  -1  -1  -1   0   0   0   0   0   0   0  -1\n",
       " -1   0   0   0   0   0   0   0  -1  -1  -1   0  -1   0   0   0\n",
       "  0  -1   0   0   0   0   0   0  -1   1   0  -1   0  -1   0   0\n",
       "  0   0  -1   0   0   0   0   0  -1   0   3  -1   0   0  -1   0\n",
       "  0   0   0  -1   0   0   0   0   0  -1  -1   1   0   0   0  -1\n",
       "  0   0   0   0  -1   0   0   0  -1   0   0   0  -1  -1  -1   0\n",
       "  0   0   0   0   0  -1   0   0   0  -1   0   0  -1   1   0  -1\n",
       "  0   0   0   0   0   0  -1   0   0   0  -1   0  -1   0  -1  -1\n",
       "  0   0   0   0   0   0   0  -1   0   0   0  -1   0  -1  -1  -3"
      ]
     },
     "execution_count": 21,
     "metadata": {},
     "output_type": "execute_result"
    }
   ],
   "source": [
    "h = 1\n",
    "H = - σᶻ⊗σᶻ⊗id⊗id - id⊗σᶻ⊗σᶻ⊗id - id⊗id⊗σᶻ⊗σᶻ\n",
    "H -= h*(σˣ⊗id⊗id⊗id + id⊗σˣ⊗id⊗id + id⊗id⊗σˣ⊗id + id⊗id⊗id⊗σˣ)"
   ]
  },
  {
   "cell_type": "code",
   "execution_count": 22,
   "id": "d46e36ad-99aa-4d48-b3e3-3b6c45574756",
   "metadata": {},
   "outputs": [
    {
     "data": {
      "text/plain": [
       "TransverseFieldIsing (generic function with 1 method)"
      ]
     },
     "execution_count": 22,
     "metadata": {},
     "output_type": "execute_result"
    }
   ],
   "source": [
    "function TransverseFieldIsing(;N,h)\n",
    "    id = [1 0; 0 1]\n",
    "    σˣ = [0 1; 1 0]\n",
    "    σᶻ = [1 0; 0 -1]\n",
    "    \n",
    "    # vector of operators: [σᶻ, σᶻ, id, ...]\n",
    "    first_term_ops = fill(id, N)\n",
    "    first_term_ops[1] = σᶻ\n",
    "    first_term_ops[2] = σᶻ\n",
    "    \n",
    "    # vector of operators: [σˣ, id, ...]\n",
    "    second_term_ops = fill(id, N)\n",
    "    second_term_ops[1] = σˣ\n",
    "    \n",
    "    H = zeros(Int, 2^N, 2^N)\n",
    "    for i in 1:N-1\n",
    "        # tensor multiply all operators\n",
    "        H -= foldl(⊗, first_term_ops)\n",
    "        # cyclic shift the operators\n",
    "        first_term_ops = circshift(first_term_ops,1)\n",
    "    end\n",
    "    \n",
    "    for i in 1:N\n",
    "        H -= h*foldl(⊗, second_term_ops)\n",
    "        second_term_ops = circshift(second_term_ops,1)\n",
    "    end\n",
    "    H\n",
    "end"
   ]
  },
  {
   "cell_type": "code",
   "execution_count": 23,
   "id": "eb25042f-327a-49d8-acc2-67aa9df8f7c3",
   "metadata": {},
   "outputs": [
    {
     "data": {
      "text/plain": [
       "256×256 Matrix{Int64}:\n",
       " -7  -1  -1   0  -1   0   0   0  -1  …   0   0   0   0   0   0   0   0   0\n",
       " -1  -5   0  -1   0  -1   0   0   0      0   0   0   0   0   0   0   0   0\n",
       " -1   0  -3  -1   0   0  -1   0   0      0   0   0   0   0   0   0   0   0\n",
       "  0  -1  -1  -5   0   0   0  -1   0      0   0   0   0   0   0   0   0   0\n",
       " -1   0   0   0  -3  -1  -1   0   0      0   0   0   0   0   0   0   0   0\n",
       "  0  -1   0   0  -1  -1   0  -1   0  …   0   0   0   0   0   0   0   0   0\n",
       "  0   0  -1   0  -1   0  -3  -1   0      0   0   0   0   0   0   0   0   0\n",
       "  0   0   0  -1   0  -1  -1  -5   0      0   0   0   0   0   0   0   0   0\n",
       " -1   0   0   0   0   0   0   0  -3      0   0   0   0   0   0   0   0   0\n",
       "  0  -1   0   0   0   0   0   0  -1      0   0   0   0   0   0   0   0   0\n",
       "  0   0  -1   0   0   0   0   0  -1  …   0   0   0   0   0   0   0   0   0\n",
       "  0   0   0  -1   0   0   0   0   0      0   0   0   0   0   0   0   0   0\n",
       "  0   0   0   0  -1   0   0   0  -1      0   0   0   0   0   0   0   0   0\n",
       "  ⋮                   ⋮              ⋱               ⋮                   ⋮\n",
       "  0   0   0   0   0   0   0   0   0      0   0   0   0   0  -1   0   0   0\n",
       "  0   0   0   0   0   0   0   0   0  …  -1   0   0   0   0   0  -1   0   0\n",
       "  0   0   0   0   0   0   0   0   0     -1   0   0   0   0   0   0  -1   0\n",
       "  0   0   0   0   0   0   0   0   0     -3   0   0   0   0   0   0   0  -1\n",
       "  0   0   0   0   0   0   0   0   0      0  -5  -1  -1   0  -1   0   0   0\n",
       "  0   0   0   0   0   0   0   0   0      0  -1  -3   0  -1   0  -1   0   0\n",
       "  0   0   0   0   0   0   0   0   0  …   0  -1   0  -1  -1   0   0  -1   0\n",
       "  0   0   0   0   0   0   0   0   0      0   0  -1  -1  -3   0   0   0  -1\n",
       "  0   0   0   0   0   0   0   0   0      0  -1   0   0   0  -5  -1  -1   0\n",
       "  0   0   0   0   0   0   0   0   0      0   0  -1   0   0  -1  -3   0  -1\n",
       "  0   0   0   0   0   0   0   0   0      0   0   0  -1   0  -1   0  -5  -1\n",
       "  0   0   0   0   0   0   0   0   0  …  -1   0   0   0  -1   0  -1  -1  -7"
      ]
     },
     "execution_count": 23,
     "metadata": {},
     "output_type": "execute_result"
    }
   ],
   "source": [
    "TransverseFieldIsing(N=8, h=1)"
   ]
  },
  {
   "cell_type": "markdown",
   "id": "71924d70-da41-4b56-aadf-d59ad33bece5",
   "metadata": {},
   "source": [
    "## Many-particle basis"
   ]
  },
  {
   "cell_type": "code",
   "execution_count": 24,
   "id": "b4c9d620-351d-4c3e-98ff-a10351cae52a",
   "metadata": {},
   "outputs": [
    {
     "data": {
      "text/plain": [
       "generate_basis"
      ]
     },
     "execution_count": 24,
     "metadata": {},
     "output_type": "execute_result"
    }
   ],
   "source": [
    "\"\"\"\n",
    "Binary `BitArray` representation of the given integer `num`, padded to length `N`.\n",
    "\"\"\"\n",
    "bit_rep(num::Integer, N::Integer) = BitArray(parse(Bool, i) for i in string(num, base=2, pad=N))\n",
    "\n",
    "\"\"\"\n",
    "    generate_basis(N::Integer) -> basis\n",
    "\n",
    "Generates a basis (`Vector{BitArray}`) spanning the Hilbert space of `N` spins.\n",
    "\"\"\"\n",
    "function generate_basis(N::Integer)\n",
    "    nstates = 2^N\n",
    "    basis = Vector{BitArray{1}}(undef, nstates)\n",
    "    for i in 0:nstates-1\n",
    "        basis[i+1] = bit_rep(i, N)\n",
    "    end\n",
    "    return basis\n",
    "end"
   ]
  },
  {
   "cell_type": "code",
   "execution_count": 25,
   "id": "43e28ede-d7b8-4037-bced-47343b16d5a0",
   "metadata": {},
   "outputs": [
    {
     "data": {
      "text/plain": [
       "16-element Vector{BitVector}:\n",
       " [0, 0, 0, 0]\n",
       " [0, 0, 0, 1]\n",
       " [0, 0, 1, 0]\n",
       " [0, 0, 1, 1]\n",
       " [0, 1, 0, 0]\n",
       " [0, 1, 0, 1]\n",
       " [0, 1, 1, 0]\n",
       " [0, 1, 1, 1]\n",
       " [1, 0, 0, 0]\n",
       " [1, 0, 0, 1]\n",
       " [1, 0, 1, 0]\n",
       " [1, 0, 1, 1]\n",
       " [1, 1, 0, 0]\n",
       " [1, 1, 0, 1]\n",
       " [1, 1, 1, 0]\n",
       " [1, 1, 1, 1]"
      ]
     },
     "execution_count": 25,
     "metadata": {},
     "output_type": "execute_result"
    }
   ],
   "source": [
    "generate_basis(4)"
   ]
  },
  {
   "cell_type": "code",
   "execution_count": null,
   "id": "3e728df6-538d-412b-8ffd-93c1d67c5c04",
   "metadata": {},
   "outputs": [],
   "source": []
  },
  {
   "cell_type": "code",
   "execution_count": null,
   "id": "88df701c-1c63-4b61-82e4-1a4cd58c7a33",
   "metadata": {},
   "outputs": [],
   "source": []
  },
  {
   "cell_type": "code",
   "execution_count": null,
   "id": "116971da-3eff-4270-b093-5fd5a4ef3060",
   "metadata": {},
   "outputs": [],
   "source": []
  },
  {
   "cell_type": "code",
   "execution_count": null,
   "id": "9eb3af7c-a8b1-4294-8c82-5aae86c6a1d4",
   "metadata": {},
   "outputs": [],
   "source": []
  },
  {
   "cell_type": "code",
   "execution_count": null,
   "id": "0a16c7e4-811d-48fe-a4f6-3917d0065eab",
   "metadata": {},
   "outputs": [],
   "source": []
  },
  {
   "cell_type": "code",
   "execution_count": null,
   "id": "42ab1e54-2e29-4896-9969-7b8da280c9d6",
   "metadata": {},
   "outputs": [],
   "source": []
  },
  {
   "cell_type": "code",
   "execution_count": null,
   "id": "1f4195d7-af1f-4573-8905-df7399fcb475",
   "metadata": {},
   "outputs": [],
   "source": []
  },
  {
   "cell_type": "code",
   "execution_count": null,
   "id": "e6fce817-9325-4044-aec7-33416f028a0d",
   "metadata": {},
   "outputs": [],
   "source": []
  },
  {
   "cell_type": "code",
   "execution_count": null,
   "id": "ef0320cd-53d1-409c-b462-a65b90ccaf42",
   "metadata": {},
   "outputs": [],
   "source": []
  }
 ],
 "metadata": {
  "kernelspec": {
   "display_name": "Julia 1.7.3",
   "language": "julia",
   "name": "julia-1.7"
  },
  "language_info": {
   "file_extension": ".jl",
   "mimetype": "application/julia",
   "name": "julia",
   "version": "1.7.3"
  }
 },
 "nbformat": 4,
 "nbformat_minor": 5
}
