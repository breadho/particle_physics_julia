{
 "cells": [
  {
   "cell_type": "markdown",
   "id": "abb12651-c8a2-44e1-9a24-0765cd049f5a",
   "metadata": {},
   "source": [
    "# Corpuscles.jl"
   ]
  },
  {
   "cell_type": "code",
   "execution_count": 3,
   "id": "cabb0e5c-05b3-4dbf-b647-d20c5f837d05",
   "metadata": {},
   "outputs": [
    {
     "name": "stdout",
     "output_type": "stream",
     "text": [
      "Julia Version 1.7.3\n",
      "Commit 742b9abb4d (2022-05-06 12:58 UTC)\n",
      "Platform Info:\n",
      "  OS: Windows (x86_64-w64-mingw32)\n",
      "  CPU: 12th Gen Intel(R) Core(TM) i7-1260P\n",
      "  WORD_SIZE: 64\n",
      "  LIBM: libopenlibm\n",
      "  LLVM: libLLVM-12.0.1 (ORCJIT, goldmont)\n"
     ]
    }
   ],
   "source": [
    "versioninfo()"
   ]
  },
  {
   "cell_type": "markdown",
   "id": "06d95e68-f8e1-4ff9-8c59-e3eac1cce807",
   "metadata": {},
   "source": [
    "## 1. Usage"
   ]
  },
  {
   "cell_type": "markdown",
   "id": "c82c475d-625e-4875-a38f-460ed1ca8205",
   "metadata": {},
   "source": [
    "Particle `struct`를 이용 새로운 입자의 정보를 구성할 수 있음\n",
    "\n",
    "만약 구조체 함수 안에 정수를 넣으면 PDG(particle data group)의 ID에 맞는 입자 정보를 호출할 수 있음"
   ]
  },
  {
   "cell_type": "code",
   "execution_count": 5,
   "id": "71501594-42c6-459b-b380-1ce56ef99ea0",
   "metadata": {},
   "outputs": [],
   "source": [
    "using Corpuscles"
   ]
  },
  {
   "cell_type": "code",
   "execution_count": 8,
   "id": "59fff58e-6b2c-40ab-94ae-c322b23bc28d",
   "metadata": {},
   "outputs": [
    {
     "data": {
      "text/plain": [
       "Particle(1) d"
      ]
     },
     "execution_count": 8,
     "metadata": {},
     "output_type": "execute_result"
    }
   ],
   "source": [
    "Particle(1)"
   ]
  },
  {
   "cell_type": "code",
   "execution_count": 9,
   "id": "9432a1a6-8b76-4a16-8a36-851dbd4dce74",
   "metadata": {},
   "outputs": [
    {
     "data": {
      "text/plain": [
       "Particle(11) e"
      ]
     },
     "execution_count": 9,
     "metadata": {},
     "output_type": "execute_result"
    }
   ],
   "source": [
    "Particle(11)"
   ]
  },
  {
   "cell_type": "code",
   "execution_count": 11,
   "id": "bab096ec-e77b-4497-bbb8-af01384a1cf6",
   "metadata": {},
   "outputs": [
    {
     "data": {
      "text/plain": [
       "Particle(11) e"
      ]
     },
     "execution_count": 11,
     "metadata": {},
     "output_type": "execute_result"
    }
   ],
   "source": [
    "p = Particle(11)"
   ]
  },
  {
   "cell_type": "code",
   "execution_count": 12,
   "id": "40c2d294-28e2-4e55-8e4e-4a5b5869fc60",
   "metadata": {},
   "outputs": [
    {
     "name": "stdout",
     "output_type": "stream",
     "text": [
      "Name:    e\n",
      "PDG ID:  11\n",
      "LaTeX:   $e^{-}$\n",
      "Status:  Common\n",
      "Width = 0.0 MeV c^-2 ± 0.0 MeV c^-2\n",
      "Q (charge) = -1//1 e\n",
      "Mass = 0.5109989461 MeV c^-2 ± 3.1e-9 MeV c^-2\n"
     ]
    }
   ],
   "source": [
    "print(p)"
   ]
  },
  {
   "cell_type": "code",
   "execution_count": 13,
   "id": "215343bc-b1cd-4ed0-8642-47f3d0deb418",
   "metadata": {},
   "outputs": [
    {
     "data": {
      "text/plain": [
       "0.5109989461 MeV c^-2 ± 3.1e-9 MeV c^-2"
      ]
     },
     "execution_count": 13,
     "metadata": {},
     "output_type": "execute_result"
    }
   ],
   "source": [
    "p.mass"
   ]
  },
  {
   "cell_type": "code",
   "execution_count": 15,
   "id": "4fd470c2-1869-4305-9ebc-fa4d7349b241",
   "metadata": {},
   "outputs": [
    {
     "name": "stdout",
     "output_type": "stream",
     "text": [
      "Name:    rho(770)\n",
      "PDG ID:  113\n",
      "LaTeX:   $\\rho(770)^{0}$\n",
      "Status:  Common\n",
      "Width = 149.1 MeV c^-2 ± 0.8 MeV c^-2\n",
      "Q (charge) = 0//1 e\n",
      "Composition = (uU-dD)/sqrt(2)\n",
      "Isospin = 1//1\n",
      "Mass = 775.26 MeV c^-2 ± 0.25 MeV c^-2\n",
      "P (space parity) = -1\n",
      "C (charge parity) = -1\n",
      "G (G-parity) = 1\n"
     ]
    }
   ],
   "source": [
    "print(Particle(113))"
   ]
  },
  {
   "cell_type": "markdown",
   "id": "0e026db0-eb2b-4db4-a690-c65e59ad8072",
   "metadata": {},
   "source": [
    "## 2. Monte Carlo Particle Numbering"
   ]
  },
  {
   "cell_type": "markdown",
   "id": "45a722fe-9c54-49a9-8fd2-f69c9ea5af75",
   "metadata": {},
   "source": [
    "### 2.1 Quarks\n",
    "\n",
    "| Group | Particle | Numbering |\n",
    "|:------|:---------|:----------|\n",
    "|Quarks |d         |1          |\n",
    "|Quarks |u         |2          |\n",
    "|Quarks |s         |3          |\n",
    "|Quarks |c         |4          |\n",
    "|Quarks |b         |5          |\n",
    "|Quarks |t         |6          |\n",
    "|Quarks |b'        |7          |\n",
    "|Quarks |t'        |8          |\n"
   ]
  },
  {
   "cell_type": "markdown",
   "id": "9994770a-df5f-47d9-9ef1-ba496117b6ca",
   "metadata": {
    "tags": []
   },
   "source": [
    "### 2.2 Leptons\n",
    "\n",
    "| Group   | Particle    | Numbering  |\n",
    "|:--------|:---------   |:-----------|\n",
    "|Leptons  |$e^-$        |11          |\n",
    "|Leptons  |$\\nu_e$      |12          |\n",
    "|Leptons  |$\\mu^-$      |13          |\n",
    "|Leptons  |$\\nu_{\\mu}$  |14          |\n",
    "|Leptons  |$\\tau^-$     |15          |\n",
    "|Leptons  |$\\nu_{\\tau}$ |16          |\n",
    "|Leptons  |$\\tau'^-$    |17          |\n",
    "|Leptons  |$\\nu_{\\tau'}$|18          |\n"
   ]
  },
  {
   "cell_type": "markdown",
   "id": "e24e091d-d197-451c-8e63-cb2664f8dae8",
   "metadata": {},
   "source": [
    "### 2.3 Gauge and Higgs Bosons\n",
    "\n",
    "| Group                  | Particle     | Numbering  |\n",
    "|:-----------------------|:------------ |:-----------|\n",
    "|Gauge and Higgs Bosons  |$g$           |21          |\n",
    "|Gauge and Higgs Bosons  |$\\gamma$      |22          |\n",
    "|Gauge and Higgs Bosons  |$Z^{0}$       |23          |\n",
    "|Gauge and Higgs Bosons  |$W^+$         |24          |\n",
    "|Gauge and Higgs Bosons  |$h^0 / H_1^0$ |25          |\n",
    "|Gauge and Higgs Bosons  |$Z' / Z_2^0$  |32          |\n",
    "|Gauge and Higgs Bosons  |$Z^{\"}/Z_{3}^{0}$ |33          |\n",
    "|Gauge and Higgs Bosons  |$W'/W_2^+$    |34          |\n",
    "|Gauge and Higgs Bosons  |$H^0/H_2^0$   |35          |\n",
    "|Gauge and Higgs Bosons  |$A^0/H_3^0$   |36          |\n",
    "|Gauge and Higgs Bosons  |$H^{+}$       |37          |\n",
    "|Gauge and Higgs Bosons  |$H^{++}$      |38          |\n",
    "|Gauge and Higgs Bosons  |$a^0/H_4^0$   |40          |"
   ]
  },
  {
   "cell_type": "markdown",
   "id": "525860ff-0b75-43da-9da0-ef80015e7661",
   "metadata": {},
   "source": [
    "### 2.4 Special Particles\n",
    "\n",
    "| Group             | Particle     | Numbering  |\n",
    "|:------------------|:------------ |:-----------|\n",
    "|Special Particles  |$G$(graviton) |39          |\n",
    "|Special Particles  |$R^0$         |41          |\n",
    "|Special Particles  |$LQ^{c}$      |42          |\n",
    "|Special Particles  |$DM(S=0)$     |51          |\n",
    "|Special Particles  |$DM(S=1/2)$   |52          |\n",
    "|Special Particles  |$DM(S=1)$     |53          |\n",
    "|Special Particles  |reggeon       |110         |\n",
    "|Special Particles  |pomeron       |990         |\n",
    "|Special Particles  |odderon       |9990        |\n",
    "\n",
    "for MC internal use 81-100, 901-930, 998-999*, 1901-1930, 2901-2930, and 3901 - 3930"
   ]
  },
  {
   "cell_type": "markdown",
   "id": "1d956c6b-2aa3-439b-8da1-59a88f933b86",
   "metadata": {},
   "source": [
    "![image.png](./pictures/mc_numbering_particle1.png)"
   ]
  },
  {
   "cell_type": "markdown",
   "id": "8a74ea82-92d7-4f19-9342-45428b128def",
   "metadata": {},
   "source": [
    "![image.png](./pictures/mc_numbering_particle2.png)"
   ]
  },
  {
   "cell_type": "markdown",
   "id": "860c9a92-f19e-4c15-96e8-8595792c331d",
   "metadata": {},
   "source": [
    "![image.png](./pictures/mc_numbering_particle3.png)"
   ]
  },
  {
   "cell_type": "code",
   "execution_count": 24,
   "id": "a558c430-146c-4565-af95-8acec9137385",
   "metadata": {},
   "outputs": [
    {
     "name": "stdout",
     "output_type": "stream",
     "text": [
      "Name:    Upsilon(11020)\n",
      "PDG ID:  9010553\n",
      "LaTeX:   $\\Upsilon(11020)$\n",
      "Status:  Common\n",
      "Width = 24.0 MeV c^-2 + 6.0 MeV c^-2 - 8.0 MeV c^-2\n",
      "Q (charge) = 0//1 e\n",
      "Composition = bB\n",
      "Isospin = 0//1\n",
      "Mass = 11000.0 MeV c^-2 ± 4.0 MeV c^-2\n",
      "P (space parity) = -1\n",
      "C (charge parity) = -1\n",
      "G (G-parity) = -1\n"
     ]
    }
   ],
   "source": [
    "print(Particle(9010553))"
   ]
  },
  {
   "cell_type": "markdown",
   "id": "9efe097d-da3b-4c91-afb8-7d8d9ef6a82c",
   "metadata": {},
   "source": [
    "'"
   ]
  },
  {
   "cell_type": "markdown",
   "id": "abd74527-f645-4bce-8c7a-97bb8e2d1458",
   "metadata": {},
   "source": [
    "패키지에 있는 conversion data를 불러와 우리가 사용 가능한 PDGID를 확인해 본다. 2022년도 버전의 입자 ID와 본 패키지에서 지원하는 입자 ID가 다른 것 같다. "
   ]
  },
  {
   "cell_type": "code",
   "execution_count": 28,
   "id": "660a61d0-56d5-4a84-8264-adcf5044e23b",
   "metadata": {},
   "outputs": [],
   "source": [
    "using DataFrames\n",
    "using CSV"
   ]
  },
  {
   "cell_type": "code",
   "execution_count": 66,
   "id": "fac6eb56-8463-438f-9066-9ff2f6e78db5",
   "metadata": {},
   "outputs": [
    {
     "data": {
      "text/html": [
       "<div><div style = \"float: left;\"><span>1014×6 DataFrame</span></div><div style = \"float: right;\"><span style = \"font-style: italic;\">989 rows omitted</span></div><div style = \"clear: both;\"></div></div><div class = \"data-frame\" style = \"overflow-x: scroll;\"><table class = \"data-frame\" style = \"margin-bottom: 6px;\"><thead><tr class = \"header\"><th class = \"rowNumber\" style = \"font-weight: bold; text-align: right;\">Row</th><th style = \"text-align: left;\">PDGID</th><th style = \"text-align: left;\">PYTHIAID</th><th style = \"text-align: left;\">GEANT3ID</th><th style = \"text-align: left;\">PDGNAME</th><th style = \"text-align: left;\">EVTGENNAME</th><th style = \"text-align: left;\">LATEXNAME</th></tr><tr class = \"subheader headerLastRow\"><th class = \"rowNumber\" style = \"font-weight: bold; text-align: right;\"></th><th title = \"Int64\" style = \"text-align: left;\">Int64</th><th title = \"Int64\" style = \"text-align: left;\">Int64</th><th title = \"Int64\" style = \"text-align: left;\">Int64</th><th title = \"String31\" style = \"text-align: left;\">String31</th><th title = \"String31\" style = \"text-align: left;\">String31</th><th title = \"String\" style = \"text-align: left;\">String</th></tr></thead><tbody><tr><td class = \"rowNumber\" style = \"font-weight: bold; text-align: right;\">1</td><td style = \"text-align: right;\">1</td><td style = \"text-align: right;\">1</td><td style = \"text-align: right;\">303</td><td style = \"text-align: left;\">d</td><td style = \"text-align: left;\">d</td><td style = \"text-align: left;\">d</td></tr><tr><td class = \"rowNumber\" style = \"font-weight: bold; text-align: right;\">2</td><td style = \"text-align: right;\">-1</td><td style = \"text-align: right;\">-1</td><td style = \"text-align: right;\">304</td><td style = \"text-align: left;\">d~</td><td style = \"text-align: left;\">anti-d</td><td style = \"text-align: left;\">\\\\overline{d}</td></tr><tr><td class = \"rowNumber\" style = \"font-weight: bold; text-align: right;\">3</td><td style = \"text-align: right;\">2</td><td style = \"text-align: right;\">2</td><td style = \"text-align: right;\">305</td><td style = \"text-align: left;\">u</td><td style = \"text-align: left;\">u</td><td style = \"text-align: left;\">u</td></tr><tr><td class = \"rowNumber\" style = \"font-weight: bold; text-align: right;\">4</td><td style = \"text-align: right;\">-2</td><td style = \"text-align: right;\">-2</td><td style = \"text-align: right;\">306</td><td style = \"text-align: left;\">u~</td><td style = \"text-align: left;\">anti-u</td><td style = \"text-align: left;\">\\\\overline{u}</td></tr><tr><td class = \"rowNumber\" style = \"font-weight: bold; text-align: right;\">5</td><td style = \"text-align: right;\">3</td><td style = \"text-align: right;\">3</td><td style = \"text-align: right;\">307</td><td style = \"text-align: left;\">s</td><td style = \"text-align: left;\">s</td><td style = \"text-align: left;\">s</td></tr><tr><td class = \"rowNumber\" style = \"font-weight: bold; text-align: right;\">6</td><td style = \"text-align: right;\">-3</td><td style = \"text-align: right;\">-3</td><td style = \"text-align: right;\">308</td><td style = \"text-align: left;\">s~</td><td style = \"text-align: left;\">anti-s</td><td style = \"text-align: left;\">\\\\overline{s}</td></tr><tr><td class = \"rowNumber\" style = \"font-weight: bold; text-align: right;\">7</td><td style = \"text-align: right;\">4</td><td style = \"text-align: right;\">4</td><td style = \"text-align: right;\">309</td><td style = \"text-align: left;\">c</td><td style = \"text-align: left;\">c</td><td style = \"text-align: left;\">c</td></tr><tr><td class = \"rowNumber\" style = \"font-weight: bold; text-align: right;\">8</td><td style = \"text-align: right;\">-4</td><td style = \"text-align: right;\">-4</td><td style = \"text-align: right;\">310</td><td style = \"text-align: left;\">c~</td><td style = \"text-align: left;\">anti-c</td><td style = \"text-align: left;\">\\\\overline{c}</td></tr><tr><td class = \"rowNumber\" style = \"font-weight: bold; text-align: right;\">9</td><td style = \"text-align: right;\">5</td><td style = \"text-align: right;\">5</td><td style = \"text-align: right;\">311</td><td style = \"text-align: left;\">b</td><td style = \"text-align: left;\">b</td><td style = \"text-align: left;\">b</td></tr><tr><td class = \"rowNumber\" style = \"font-weight: bold; text-align: right;\">10</td><td style = \"text-align: right;\">-5</td><td style = \"text-align: right;\">-5</td><td style = \"text-align: right;\">312</td><td style = \"text-align: left;\">b~</td><td style = \"text-align: left;\">anti-b</td><td style = \"text-align: left;\">\\\\overline{b}</td></tr><tr><td class = \"rowNumber\" style = \"font-weight: bold; text-align: right;\">11</td><td style = \"text-align: right;\">6</td><td style = \"text-align: right;\">6</td><td style = \"text-align: right;\">313</td><td style = \"text-align: left;\">t</td><td style = \"text-align: left;\">t</td><td style = \"text-align: left;\">t</td></tr><tr><td class = \"rowNumber\" style = \"font-weight: bold; text-align: right;\">12</td><td style = \"text-align: right;\">-6</td><td style = \"text-align: right;\">-6</td><td style = \"text-align: right;\">314</td><td style = \"text-align: left;\">t~</td><td style = \"text-align: left;\">anti-t</td><td style = \"text-align: left;\">\\\\overline{t}</td></tr><tr><td class = \"rowNumber\" style = \"font-weight: bold; text-align: right;\">13</td><td style = \"text-align: right;\">7</td><td style = \"text-align: right;\">7</td><td style = \"text-align: right;\">315</td><td style = \"text-align: left;\">b&apos;</td><td style = \"text-align: left;\">b&apos;</td><td style = \"text-align: left;\">b^\\\\prime</td></tr><tr><td style = \"text-align: right;\">&vellip;</td><td style = \"text-align: right;\">&vellip;</td><td style = \"text-align: right;\">&vellip;</td><td style = \"text-align: right;\">&vellip;</td><td style = \"text-align: right;\">&vellip;</td><td style = \"text-align: right;\">&vellip;</td><td style = \"text-align: right;\">&vellip;</td></tr><tr><td class = \"rowNumber\" style = \"font-weight: bold; text-align: right;\">1003</td><td style = \"text-align: right;\">1000420920</td><td style = \"text-align: right;\">0</td><td style = \"text-align: right;\">1009</td><td style = \"text-align: left;\">Mo92[0.0]</td><td style = \"text-align: left;\">unknown</td><td style = \"text-align: left;\">^{92}\\\\mathrm{Mo}</td></tr><tr><td class = \"rowNumber\" style = \"font-weight: bold; text-align: right;\">1004</td><td style = \"text-align: right;\">1000420950</td><td style = \"text-align: right;\">0</td><td style = \"text-align: right;\">1010</td><td style = \"text-align: left;\">Mo95[0.0]</td><td style = \"text-align: left;\">unknown</td><td style = \"text-align: left;\">^{95}\\\\mathrm{Mo}</td></tr><tr><td class = \"rowNumber\" style = \"font-weight: bold; text-align: right;\">1005</td><td style = \"text-align: right;\">1000420960</td><td style = \"text-align: right;\">0</td><td style = \"text-align: right;\">1011</td><td style = \"text-align: left;\">Mo96[0.0]</td><td style = \"text-align: left;\">unknown</td><td style = \"text-align: left;\">^{96}\\\\mathrm{Mo}</td></tr><tr><td class = \"rowNumber\" style = \"font-weight: bold; text-align: right;\">1006</td><td style = \"text-align: right;\">1000420970</td><td style = \"text-align: right;\">0</td><td style = \"text-align: right;\">1012</td><td style = \"text-align: left;\">Mo97[0.0]</td><td style = \"text-align: left;\">unknown</td><td style = \"text-align: left;\">^{97}\\\\mathrm{Mo}</td></tr><tr><td class = \"rowNumber\" style = \"font-weight: bold; text-align: right;\">1007</td><td style = \"text-align: right;\">1000420980</td><td style = \"text-align: right;\">0</td><td style = \"text-align: right;\">1013</td><td style = \"text-align: left;\">Mo98[0.0]</td><td style = \"text-align: left;\">unknown</td><td style = \"text-align: left;\">^{98}\\\\mathrm{Mo}</td></tr><tr><td class = \"rowNumber\" style = \"font-weight: bold; text-align: right;\">1008</td><td style = \"text-align: right;\">1000421000</td><td style = \"text-align: right;\">0</td><td style = \"text-align: right;\">1014</td><td style = \"text-align: left;\">Mo100[0.0]</td><td style = \"text-align: left;\">unknown</td><td style = \"text-align: left;\">^{100}\\\\mathrm{Mo}</td></tr><tr><td class = \"rowNumber\" style = \"font-weight: bold; text-align: right;\">1009</td><td style = \"text-align: right;\">1000461080</td><td style = \"text-align: right;\">0</td><td style = \"text-align: right;\">1015</td><td style = \"text-align: left;\">Pd108[0.0]</td><td style = \"text-align: left;\">unknown</td><td style = \"text-align: left;\">^{108}\\\\mathrm{Pd}</td></tr><tr><td class = \"rowNumber\" style = \"font-weight: bold; text-align: right;\">1010</td><td style = \"text-align: right;\">1000791970</td><td style = \"text-align: right;\">0</td><td style = \"text-align: right;\">1020</td><td style = \"text-align: left;\">Au197[0.0]</td><td style = \"text-align: left;\">unknown</td><td style = \"text-align: left;\">^{197}\\\\mathrm{Au}</td></tr><tr><td class = \"rowNumber\" style = \"font-weight: bold; text-align: right;\">1011</td><td style = \"text-align: right;\">1000822040</td><td style = \"text-align: right;\">0</td><td style = \"text-align: right;\">970</td><td style = \"text-align: left;\">Pb204[0.0]</td><td style = \"text-align: left;\">unknown</td><td style = \"text-align: left;\">^{204}\\\\mathrm{Pb}</td></tr><tr><td class = \"rowNumber\" style = \"font-weight: bold; text-align: right;\">1012</td><td style = \"text-align: right;\">1000822060</td><td style = \"text-align: right;\">0</td><td style = \"text-align: right;\">965</td><td style = \"text-align: left;\">Pb206[0.0]</td><td style = \"text-align: left;\">unknown</td><td style = \"text-align: left;\">^{206}\\\\mathrm{Pb}</td></tr><tr><td class = \"rowNumber\" style = \"font-weight: bold; text-align: right;\">1013</td><td style = \"text-align: right;\">1000822070</td><td style = \"text-align: right;\">0</td><td style = \"text-align: right;\">962</td><td style = \"text-align: left;\">Pb207[0.0]</td><td style = \"text-align: left;\">unknown</td><td style = \"text-align: left;\">^{207}\\\\mathrm{Pb}</td></tr><tr><td class = \"rowNumber\" style = \"font-weight: bold; text-align: right;\">1014</td><td style = \"text-align: right;\">1000822080</td><td style = \"text-align: right;\">0</td><td style = \"text-align: right;\">963</td><td style = \"text-align: left;\">Pb208[0.0]</td><td style = \"text-align: left;\">unknown</td><td style = \"text-align: left;\">^{208}\\\\mathrm{Pb}</td></tr></tbody></table></div>"
      ],
      "text/latex": [
       "\\begin{tabular}{r|cccccc}\n",
       "\t& PDGID & PYTHIAID & GEANT3ID & PDGNAME & EVTGENNAME & LATEXNAME\\\\\n",
       "\t\\hline\n",
       "\t& Int64 & Int64 & Int64 & String31 & String31 & String\\\\\n",
       "\t\\hline\n",
       "\t1 & 1 & 1 & 303 & d & d & d \\\\\n",
       "\t2 & -1 & -1 & 304 & d\\textasciitilde{} & anti-d & \\textbackslash{}\\textbackslash{}overline\\{d\\} \\\\\n",
       "\t3 & 2 & 2 & 305 & u & u & u \\\\\n",
       "\t4 & -2 & -2 & 306 & u\\textasciitilde{} & anti-u & \\textbackslash{}\\textbackslash{}overline\\{u\\} \\\\\n",
       "\t5 & 3 & 3 & 307 & s & s & s \\\\\n",
       "\t6 & -3 & -3 & 308 & s\\textasciitilde{} & anti-s & \\textbackslash{}\\textbackslash{}overline\\{s\\} \\\\\n",
       "\t7 & 4 & 4 & 309 & c & c & c \\\\\n",
       "\t8 & -4 & -4 & 310 & c\\textasciitilde{} & anti-c & \\textbackslash{}\\textbackslash{}overline\\{c\\} \\\\\n",
       "\t9 & 5 & 5 & 311 & b & b & b \\\\\n",
       "\t10 & -5 & -5 & 312 & b\\textasciitilde{} & anti-b & \\textbackslash{}\\textbackslash{}overline\\{b\\} \\\\\n",
       "\t11 & 6 & 6 & 313 & t & t & t \\\\\n",
       "\t12 & -6 & -6 & 314 & t\\textasciitilde{} & anti-t & \\textbackslash{}\\textbackslash{}overline\\{t\\} \\\\\n",
       "\t13 & 7 & 7 & 315 & b' & b' & b\\^\\textbackslash{}\\textbackslash{}prime \\\\\n",
       "\t14 & -7 & -7 & 316 & anti-b' & anti-b' & \\textbackslash{}\\textbackslash{}overline\\{b\\}\\^\\textbackslash{}\\textbackslash{}prime \\\\\n",
       "\t15 & 8 & 8 & 317 & t' & t' & t\\^\\textbackslash{}\\textbackslash{}prime \\\\\n",
       "\t16 & -8 & -8 & 318 & anti-t' & anti-t' & \\textbackslash{}\\textbackslash{}overline\\{t\\}\\^\\textbackslash{}\\textbackslash{}prime \\\\\n",
       "\t17 & 11 & 11 & 3 & e- & e- & e\\^\\{-\\} \\\\\n",
       "\t18 & -11 & -11 & 2 & e+ & e+ & e\\^\\{+\\} \\\\\n",
       "\t19 & 12 & 12 & 4 & nu(e) & nu\\_e & \\textbackslash{}\\textbackslash{}nu\\_\\{e\\} \\\\\n",
       "\t20 & -12 & -12 & 302 & nu(e)\\textasciitilde{} & anti-nu\\_e & \\textbackslash{}\\textbackslash{}overline\\{\\textbackslash{}\\textbackslash{}nu\\}\\_\\{e\\} \\\\\n",
       "\t21 & 13 & 13 & 6 & mu- & mu- & \\textbackslash{}\\textbackslash{}mu\\^\\{-\\} \\\\\n",
       "\t22 & -13 & -13 & 5 & mu+ & mu+ & \\textbackslash{}\\textbackslash{}mu\\^\\{+\\} \\\\\n",
       "\t23 & 14 & 14 & 300 & nu(mu) & nu\\_mu & \\textbackslash{}\\textbackslash{}nu\\_\\{\\textbackslash{}\\textbackslash{}mu\\} \\\\\n",
       "\t24 & -14 & -14 & 301 & nu(mu)\\textasciitilde{} & anti-nu\\_mu & \\textbackslash{}\\textbackslash{}overline\\{\\textbackslash{}\\textbackslash{}nu\\}\\_\\{\\textbackslash{}\\textbackslash{}mu\\} \\\\\n",
       "\t25 & 15 & 15 & 52 & tau- & tau- & \\textbackslash{}\\textbackslash{}tau\\^\\{-\\} \\\\\n",
       "\t26 & -15 & -15 & 51 & tau+ & tau+ & \\textbackslash{}\\textbackslash{}tau\\^\\{+\\} \\\\\n",
       "\t27 & 16 & 16 & 319 & nu(tau) & nu\\_tau & \\textbackslash{}\\textbackslash{}nu\\_\\{\\textbackslash{}\\textbackslash{}tau\\} \\\\\n",
       "\t28 & -16 & -16 & 320 & nu(tau)\\textasciitilde{} & anti-nu\\_tau & \\textbackslash{}\\textbackslash{}overline\\{\\textbackslash{}\\textbackslash{}nu\\}\\_\\{\\textbackslash{}\\textbackslash{}tau\\} \\\\\n",
       "\t29 & 17 & 17 & 321 & tau'- & L- & \\textbackslash{}\\textbackslash{}tau\\^\\{\\textbackslash{}\\textbackslash{}prime -\\} \\\\\n",
       "\t30 & -17 & -17 & 322 & tau'+ & L+ & \\textbackslash{}\\textbackslash{}tau\\^\\{\\textbackslash{}\\textbackslash{}prime +\\} \\\\\n",
       "\t$\\dots$ & $\\dots$ & $\\dots$ & $\\dots$ & $\\dots$ & $\\dots$ & $\\dots$ \\\\\n",
       "\\end{tabular}\n"
      ],
      "text/plain": [
       "\u001b[1m1014×6 DataFrame\u001b[0m\n",
       "\u001b[1m  Row \u001b[0m│\u001b[1m PDGID      \u001b[0m\u001b[1m PYTHIAID \u001b[0m\u001b[1m GEANT3ID \u001b[0m\u001b[1m PDGNAME    \u001b[0m\u001b[1m EVTGENNAME \u001b[0m\u001b[1m LATEXNAME     \u001b[0m ⋯\n",
       "      │\u001b[90m Int64      \u001b[0m\u001b[90m Int64    \u001b[0m\u001b[90m Int64    \u001b[0m\u001b[90m String31   \u001b[0m\u001b[90m String31   \u001b[0m\u001b[90m String        \u001b[0m ⋯\n",
       "──────┼─────────────────────────────────────────────────────────────────────────\n",
       "    1 │          1         1       303  d           d           d              ⋯\n",
       "    2 │         -1        -1       304  d~          anti-d      \\\\overline{d}\n",
       "    3 │          2         2       305  u           u           u\n",
       "    4 │         -2        -2       306  u~          anti-u      \\\\overline{u}\n",
       "    5 │          3         3       307  s           s           s              ⋯\n",
       "    6 │         -3        -3       308  s~          anti-s      \\\\overline{s}\n",
       "    7 │          4         4       309  c           c           c\n",
       "    8 │         -4        -4       310  c~          anti-c      \\\\overline{c}\n",
       "    9 │          5         5       311  b           b           b              ⋯\n",
       "   10 │         -5        -5       312  b~          anti-b      \\\\overline{b}\n",
       "   11 │          6         6       313  t           t           t\n",
       "  ⋮   │     ⋮          ⋮         ⋮          ⋮           ⋮                 ⋮    ⋱\n",
       " 1005 │ 1000420960         0      1011  Mo96[0.0]   unknown     ^{96}\\\\mathrm{\n",
       " 1006 │ 1000420970         0      1012  Mo97[0.0]   unknown     ^{97}\\\\mathrm{ ⋯\n",
       " 1007 │ 1000420980         0      1013  Mo98[0.0]   unknown     ^{98}\\\\mathrm{\n",
       " 1008 │ 1000421000         0      1014  Mo100[0.0]  unknown     ^{100}\\\\mathrm\n",
       " 1009 │ 1000461080         0      1015  Pd108[0.0]  unknown     ^{108}\\\\mathrm\n",
       " 1010 │ 1000791970         0      1020  Au197[0.0]  unknown     ^{197}\\\\mathrm ⋯\n",
       " 1011 │ 1000822040         0       970  Pb204[0.0]  unknown     ^{204}\\\\mathrm\n",
       " 1012 │ 1000822060         0       965  Pb206[0.0]  unknown     ^{206}\\\\mathrm\n",
       " 1013 │ 1000822070         0       962  Pb207[0.0]  unknown     ^{207}\\\\mathrm\n",
       " 1014 │ 1000822080         0       963  Pb208[0.0]  unknown     ^{208}\\\\mathrm ⋯\n",
       "\u001b[36m                                                   1 column and 993 rows omitted\u001b[0m"
      ]
     },
     "execution_count": 66,
     "metadata": {},
     "output_type": "execute_result"
    }
   ],
   "source": [
    "df = CSV.read(\"./data/conversions.csv\", DataFrame; \n",
    "                comment = \"#\", \n",
    "                header = true, \n",
    "                delim = \",\",\n",
    "                stripwhitespace = true)"
   ]
  },
  {
   "cell_type": "code",
   "execution_count": 67,
   "id": "ecfffd34-f754-4bba-bf5c-350b3222096e",
   "metadata": {},
   "outputs": [
    {
     "data": {
      "text/plain": [
       "\"anti-d\""
      ]
     },
     "execution_count": 67,
     "metadata": {},
     "output_type": "execute_result"
    }
   ],
   "source": [
    "df[2, 5]"
   ]
  },
  {
   "cell_type": "code",
   "execution_count": 68,
   "id": "fc59d87f-5dda-4321-9733-0787e7a1c3a7",
   "metadata": {},
   "outputs": [
    {
     "data": {
      "text/plain": [
       "6-element Vector{String}:\n",
       " \"PDGID\"\n",
       " \"PYTHIAID\"\n",
       " \"GEANT3ID\"\n",
       " \"PDGNAME\"\n",
       " \"EVTGENNAME\"\n",
       " \"LATEXNAME\""
      ]
     },
     "execution_count": 68,
     "metadata": {},
     "output_type": "execute_result"
    }
   ],
   "source": [
    "names(df)"
   ]
  },
  {
   "cell_type": "code",
   "execution_count": 69,
   "id": "64cf3d39-8c35-40bb-a3ff-b364b8877e47",
   "metadata": {},
   "outputs": [
    {
     "data": {
      "text/plain": [
       "1014-element Vector{Int64}:\n",
       "          1\n",
       "         -1\n",
       "          2\n",
       "         -2\n",
       "          3\n",
       "         -3\n",
       "          4\n",
       "         -4\n",
       "          5\n",
       "         -5\n",
       "          6\n",
       "         -6\n",
       "          7\n",
       "          ⋮\n",
       " 1000420920\n",
       " 1000420950\n",
       " 1000420960\n",
       " 1000420970\n",
       " 1000420980\n",
       " 1000421000\n",
       " 1000461080\n",
       " 1000791970\n",
       " 1000822040\n",
       " 1000822060\n",
       " 1000822070\n",
       " 1000822080"
      ]
     },
     "execution_count": 69,
     "metadata": {},
     "output_type": "execute_result"
    }
   ],
   "source": [
    "df.PDGID"
   ]
  },
  {
   "cell_type": "code",
   "execution_count": 70,
   "id": "05b8bdf6-d846-446a-99e6-f68f156039d0",
   "metadata": {},
   "outputs": [
    {
     "data": {
      "text/plain": [
       "1014-element Vector{Int64}:\n",
       "          1\n",
       "         -1\n",
       "          2\n",
       "         -2\n",
       "          3\n",
       "         -3\n",
       "          4\n",
       "         -4\n",
       "          5\n",
       "         -5\n",
       "          6\n",
       "         -6\n",
       "          7\n",
       "          ⋮\n",
       " 1000420920\n",
       " 1000420950\n",
       " 1000420960\n",
       " 1000420970\n",
       " 1000420980\n",
       " 1000421000\n",
       " 1000461080\n",
       " 1000791970\n",
       " 1000822040\n",
       " 1000822060\n",
       " 1000822070\n",
       " 1000822080"
      ]
     },
     "execution_count": 70,
     "metadata": {},
     "output_type": "execute_result"
    }
   ],
   "source": [
    "PDGID_vec = df.PDGID"
   ]
  },
  {
   "cell_type": "code",
   "execution_count": 79,
   "id": "9e376d1d-2434-4b20-9ef5-d4bcac271c5b",
   "metadata": {},
   "outputs": [
    {
     "name": "stdout",
     "output_type": "stream",
     "text": [
      "PDGID index: 1 \n",
      "Name:    d\n",
      "PDG ID:  1\n",
      "LaTeX:   $d$\n",
      "Status:  Common\n",
      "Width = -1.0 MeV c^-2 ± -1.0 MeV c^-2\n",
      "Q (charge) = -1//3 e\n",
      "Composition = d\n",
      "Isospin = 1//2\n",
      "Mass = 4.67 MeV c^-2 + 0.2 MeV c^-2 - 0.5 MeV c^-2\n",
      "P (space parity) = 1\n",
      "\n",
      "--------------------------------------------------\n",
      "PDGID index: 2 \n",
      "Name:    d\n",
      "PDG ID:  -1\n",
      "LaTeX:   $\\overline{d}$\n",
      "Status:  Common\n",
      "Width = -1.0 MeV c^-2 ± -1.0 MeV c^-2\n",
      "Q (charge) = 1//3 e\n",
      "Composition = D\n",
      "Isospin = 1//2\n",
      "Mass = 4.67 MeV c^-2 + 0.2 MeV c^-2 - 0.5 MeV c^-2\n",
      "P (space parity) = 1\n",
      "\n",
      "--------------------------------------------------\n",
      "PDGID index: 3 \n",
      "Name:    u\n",
      "PDG ID:  2\n",
      "LaTeX:   $u$\n",
      "Status:  Common\n",
      "Width = -1.0 MeV c^-2 ± -1.0 MeV c^-2\n",
      "Q (charge) = 2//3 e\n",
      "Composition = u\n",
      "Isospin = 1//2\n",
      "Mass = 2.16 MeV c^-2 + 0.3 MeV c^-2 - 0.5 MeV c^-2\n",
      "P (space parity) = 1\n",
      "\n",
      "--------------------------------------------------\n",
      "PDGID index: 4 \n",
      "Name:    u\n",
      "PDG ID:  -2\n",
      "LaTeX:   $\\overline{u}$\n",
      "Status:  Common\n",
      "Width = -1.0 MeV c^-2 ± -1.0 MeV c^-2\n",
      "Q (charge) = -2//3 e\n",
      "Composition = U\n",
      "Isospin = 1//2\n",
      "Mass = 2.16 MeV c^-2 + 0.3 MeV c^-2 - 0.5 MeV c^-2\n",
      "P (space parity) = 1\n",
      "\n",
      "--------------------------------------------------\n",
      "PDGID index: 5 \n",
      "Name:    s\n",
      "PDG ID:  3\n",
      "LaTeX:   $s$\n",
      "Status:  Common\n",
      "Width = -1.0 MeV c^-2 ± -1.0 MeV c^-2\n",
      "Q (charge) = -1//3 e\n",
      "Composition = s\n",
      "Isospin = 0//1\n",
      "Mass = 93.0 MeV c^-2 + 5.0 MeV c^-2 - 11.0 MeV c^-2\n",
      "P (space parity) = 1\n",
      "\n",
      "--------------------------------------------------\n",
      "PDGID index: 6 \n",
      "Name:    s\n",
      "PDG ID:  -3\n",
      "LaTeX:   $\\overline{s}$\n",
      "Status:  Common\n",
      "Width = -1.0 MeV c^-2 ± -1.0 MeV c^-2\n",
      "Q (charge) = 1//3 e\n",
      "Composition = S\n",
      "Isospin = 0//1\n",
      "Mass = 93.0 MeV c^-2 + 5.0 MeV c^-2 - 11.0 MeV c^-2\n",
      "P (space parity) = 1\n",
      "\n",
      "--------------------------------------------------\n",
      "PDGID index: 7 \n",
      "Name:    c\n",
      "PDG ID:  4\n",
      "LaTeX:   $c$\n",
      "Status:  Common\n",
      "Width = -1.0 MeV c^-2 ± -1.0 MeV c^-2\n",
      "Q (charge) = 2//3 e\n",
      "Composition = c\n",
      "Isospin = 0//1\n",
      "Mass = 1270.0 MeV c^-2 ± 20.0 MeV c^-2\n",
      "P (space parity) = 1\n",
      "\n",
      "--------------------------------------------------\n",
      "PDGID index: 8 \n",
      "Name:    c\n",
      "PDG ID:  -4\n",
      "LaTeX:   $\\overline{c}$\n",
      "Status:  Common\n",
      "Width = -1.0 MeV c^-2 ± -1.0 MeV c^-2\n",
      "Q (charge) = -2//3 e\n",
      "Composition = C\n",
      "Isospin = 0//1\n",
      "Mass = 1270.0 MeV c^-2 ± 20.0 MeV c^-2\n",
      "P (space parity) = 1\n",
      "\n",
      "--------------------------------------------------\n",
      "PDGID index: 9 \n",
      "Name:    b\n",
      "PDG ID:  5\n",
      "LaTeX:   $b$\n",
      "Status:  Common\n",
      "Width = -1.0 MeV c^-2 ± -1.0 MeV c^-2\n",
      "Q (charge) = -1//3 e\n",
      "Composition = b\n",
      "Isospin = 0//1\n",
      "Mass = 4180.0 MeV c^-2 + 20.0 MeV c^-2 - 30.0 MeV c^-2\n",
      "P (space parity) = 1\n",
      "\n",
      "--------------------------------------------------\n",
      "PDGID index: 10 \n",
      "Name:    b\n",
      "PDG ID:  -5\n",
      "LaTeX:   $\\overline{b}$\n",
      "Status:  Common\n",
      "Width = -1.0 MeV c^-2 ± -1.0 MeV c^-2\n",
      "Q (charge) = 1//3 e\n",
      "Composition = B\n",
      "Isospin = 0//1\n",
      "Mass = 4180.0 MeV c^-2 + 20.0 MeV c^-2 - 30.0 MeV c^-2\n",
      "P (space parity) = 1\n",
      "\n",
      "--------------------------------------------------\n",
      "PDGID index: 11 \n",
      "Name:    t\n",
      "PDG ID:  6\n",
      "LaTeX:   $t$\n",
      "Status:  Common\n",
      "Width = 1420.0 MeV c^-2 + 150.0 MeV c^-2 - 190.0 MeV c^-2\n",
      "Q (charge) = 2//3 e\n",
      "Composition = t\n",
      "Isospin = 0//1\n",
      "Mass = 172400.0 MeV c^-2 ± 700.0 MeV c^-2\n",
      "P (space parity) = 1\n",
      "\n",
      "--------------------------------------------------\n",
      "PDGID index: 12 \n",
      "Name:    t\n",
      "PDG ID:  -6\n",
      "LaTeX:   $\\overline{t}$\n",
      "Status:  Common\n",
      "Width = 1420.0 MeV c^-2 + 150.0 MeV c^-2 - 190.0 MeV c^-2\n",
      "Q (charge) = -2//3 e\n",
      "Composition = T\n",
      "Isospin = 0//1\n",
      "Mass = 172400.0 MeV c^-2 ± 700.0 MeV c^-2\n",
      "P (space parity) = 1\n",
      "\n",
      "--------------------------------------------------\n",
      "PDGID index: 13 \n"
     ]
    },
    {
     "ename": "LoadError",
     "evalue": "KeyError: key PDGID(7) not found",
     "output_type": "error",
     "traceback": [
      "KeyError: key PDGID(7) not found",
      "",
      "Stacktrace:",
      " [1] getindex",
      "   @ .\\dict.jl:481 [inlined]",
      " [2] Particle",
      "   @ C:\\Users\\jeffr\\.julia\\packages\\Corpuscles\\dYZw2\\src\\Corpuscles.jl:180 [inlined]",
      " [3] Particle(id::Int64)",
      "   @ Corpuscles C:\\Users\\jeffr\\.julia\\packages\\Corpuscles\\dYZw2\\src\\Corpuscles.jl:181",
      " [4] top-level scope",
      "   @ .\\In[79]:3",
      " [5] eval",
      "   @ .\\boot.jl:373 [inlined]",
      " [6] include_string(mapexpr::typeof(REPL.softscope), mod::Module, code::String, filename::String)",
      "   @ Base .\\loading.jl:1196"
     ]
    }
   ],
   "source": [
    "for (index, value) in enumerate(PDGID_vec)\n",
    "    print(\"PDGID index: $index \\n\")\n",
    "    print(Particle(value))\n",
    "    println(\"\\n\", \"-\"^50)\n",
    "end"
   ]
  },
  {
   "cell_type": "code",
   "execution_count": 77,
   "id": "976d74d1-d504-4348-9371-1b0ae6f54dc8",
   "metadata": {},
   "outputs": [
    {
     "ename": "LoadError",
     "evalue": "KeyError: key PDGID(7) not found",
     "output_type": "error",
     "traceback": [
      "KeyError: key PDGID(7) not found",
      "",
      "Stacktrace:",
      " [1] getindex",
      "   @ .\\dict.jl:481 [inlined]",
      " [2] Particle",
      "   @ C:\\Users\\jeffr\\.julia\\packages\\Corpuscles\\dYZw2\\src\\Corpuscles.jl:180 [inlined]",
      " [3] Particle(id::Int64)",
      "   @ Corpuscles C:\\Users\\jeffr\\.julia\\packages\\Corpuscles\\dYZw2\\src\\Corpuscles.jl:181",
      " [4] top-level scope",
      "   @ In[77]:1",
      " [5] eval",
      "   @ .\\boot.jl:373 [inlined]",
      " [6] include_string(mapexpr::typeof(REPL.softscope), mod::Module, code::String, filename::String)",
      "   @ Base .\\loading.jl:1196"
     ]
    }
   ],
   "source": [
    "Particle(7) # 7번 입자가 없다 !!!"
   ]
  },
  {
   "cell_type": "markdown",
   "id": "108a63a1-6875-46e6-b87f-d285a029f6b9",
   "metadata": {},
   "source": [
    "어떻게 된 일이지?"
   ]
  },
  {
   "cell_type": "code",
   "execution_count": null,
   "id": "339b67e9-de91-425e-b313-38d82ce3adc0",
   "metadata": {},
   "outputs": [],
   "source": []
  },
  {
   "cell_type": "markdown",
   "id": "8efa9c6a-5d26-49b5-beae-2159e98af9cc",
   "metadata": {},
   "source": [
    "## 3. Properties"
   ]
  },
  {
   "cell_type": "markdown",
   "id": "5b070a7b-5fdd-4b40-8195-7b336847d52b",
   "metadata": {},
   "source": [
    "### 3.1 fieldnames\n",
    "\n",
    "Particle 생성자(constructor)의 attributes는 다음과 같다."
   ]
  },
  {
   "cell_type": "code",
   "execution_count": 86,
   "id": "dd57fe46-26d7-4d43-aa3b-a7294c07989f",
   "metadata": {},
   "outputs": [
    {
     "data": {
      "text/plain": [
       "(:pdgid, :mass, :width, :charge, :isospin, :parity, :gparity, :cparity, :antiprop, :rank, :status, :name, :quarks, :latex, :glyph)"
      ]
     },
     "execution_count": 86,
     "metadata": {},
     "output_type": "execute_result"
    }
   ],
   "source": [
    "fieldnames(Particle)"
   ]
  },
  {
   "cell_type": "code",
   "execution_count": 89,
   "id": "df217acc-b3e7-4618-aab0-58ef92f79987",
   "metadata": {},
   "outputs": [
    {
     "data": {
      "text/plain": [
       "Particle(13) mu"
      ]
     },
     "execution_count": 89,
     "metadata": {},
     "output_type": "execute_result"
    }
   ],
   "source": [
    "p = Particle(13)"
   ]
  },
  {
   "cell_type": "code",
   "execution_count": 90,
   "id": "e5fa7cdc-9470-4aa8-b637-0cb50ad64b52",
   "metadata": {},
   "outputs": [
    {
     "data": {
      "text/plain": [
       "-1//1 e"
      ]
     },
     "execution_count": 90,
     "metadata": {},
     "output_type": "execute_result"
    }
   ],
   "source": [
    "p.charge"
   ]
  },
  {
   "cell_type": "code",
   "execution_count": 91,
   "id": "faa60d2c-7522-4bda-9b26-9210d10c100b",
   "metadata": {},
   "outputs": [
    {
     "data": {
      "text/plain": [
       "\"\""
      ]
     },
     "execution_count": 91,
     "metadata": {},
     "output_type": "execute_result"
    }
   ],
   "source": [
    "p.quarks"
   ]
  },
  {
   "cell_type": "code",
   "execution_count": 92,
   "id": "7e7979e6-a559-4194-a931-2f004b797f6a",
   "metadata": {},
   "outputs": [
    {
     "data": {
      "text/plain": [
       "\"\\\\mu^{-}\""
      ]
     },
     "execution_count": 92,
     "metadata": {},
     "output_type": "execute_result"
    }
   ],
   "source": [
    "p.latex"
   ]
  },
  {
   "cell_type": "markdown",
   "id": "4236534c-284b-4a98-8a19-b85291b1d031",
   "metadata": {},
   "source": [
    "### 3.2 helper function"
   ]
  },
  {
   "cell_type": "code",
   "execution_count": 81,
   "id": "2898fb5d-fd7f-4611-9a35-8dd3c5a20595",
   "metadata": {},
   "outputs": [
    {
     "data": {
      "text/plain": [
       "257-element Vector{Particle}:\n",
       " Particle(-9000321) K(0)*(700)\n",
       " Particle(10315) K(2)(1770)\n",
       " Particle(-13324) Xi(1820)\n",
       " Particle(325) K(2)*(1430)\n",
       " Particle(4324) Xi(c)(2645)\n",
       " Particle(-20323) K(1)(1400)\n",
       " Particle(4312) Xi(c)'\n",
       " Particle(-20315) K(2)(1820)\n",
       " Particle(5301) (bs)(0)\n",
       " Particle(100313) K*(1410)\n",
       " Particle(-23112) Sigma(1750)\n",
       " Particle(10433) D(s1)(2536)\n",
       " Particle(5303) (bs)(1)\n",
       " ⋮\n",
       " Particle(104314) Xi(c)(2790)\n",
       " Particle(-4232) Xi(c)\n",
       " Particle(13116) Sigma(1915)\n",
       " Particle(-10315) K(2)(1770)\n",
       " Particle(-13314) Xi(1820)\n",
       " Particle(-13214) Sigma(1670)\n",
       " Particle(13314) Xi(1820)\n",
       " Particle(20325) K(2)(1820)\n",
       " Particle(431) D(s)\n",
       " Particle(-317) K(3)*(1780)\n",
       " Particle(3203) (su)(1)\n",
       " Particle(-10325) K(2)(1770)"
      ]
     },
     "execution_count": 81,
     "metadata": {},
     "output_type": "execute_result"
    }
   ],
   "source": [
    "filter(hasstrange, particles())"
   ]
  },
  {
   "cell_type": "markdown",
   "id": "91de5820-52a3-4f80-a133-617be627c391",
   "metadata": {},
   "source": [
    "## 4. Finding Particles"
   ]
  },
  {
   "cell_type": "code",
   "execution_count": 93,
   "id": "97f7cb4e-b686-45de-8ee7-7a519a990d5d",
   "metadata": {},
   "outputs": [
    {
     "data": {
      "text/plain": [
       "8-element Vector{Particle}:\n",
       " Particle(-18) nu(tau')\n",
       " Particle(-16) nu(tau)\n",
       " Particle(14) nu(mu)\n",
       " Particle(16) nu(tau)\n",
       " Particle(-12) nu(e)\n",
       " Particle(-14) nu(mu)\n",
       " Particle(18) nu(tau')\n",
       " Particle(12) nu(e)"
      ]
     },
     "execution_count": 93,
     "metadata": {},
     "output_type": "execute_result"
    }
   ],
   "source": [
    "filter(p->startswith(p.name, \"nu\"), particles())"
   ]
  },
  {
   "cell_type": "code",
   "execution_count": 94,
   "id": "7d488fbf-7065-4e53-8153-203101b4762c",
   "metadata": {},
   "outputs": [
    {
     "data": {
      "text/plain": [
       "10-element Vector{Particle}:\n",
       " Particle(425) D(2)*(2460)\n",
       " Particle(-10423) D(1)(2420)\n",
       " Particle(415) D(2)*(2460)\n",
       " Particle(-10411) D(0)*(2300)\n",
       " Particle(-415) D(2)*(2460)\n",
       " Particle(-10421) D(0)*(2300)\n",
       " Particle(10423) D(1)(2420)\n",
       " Particle(-425) D(2)*(2460)\n",
       " Particle(10421) D(0)*(2300)\n",
       " Particle(10411) D(0)*(2300)"
      ]
     },
     "execution_count": 94,
     "metadata": {},
     "output_type": "execute_result"
    }
   ],
   "source": [
    "filter(p->occursin(r\"D\\(\\d*\\)\", p.name), particles())"
   ]
  },
  {
   "cell_type": "markdown",
   "id": "a5443783-35a6-41c2-b4cc-119281ff330d",
   "metadata": {},
   "source": [
    "Particle constructor의 method 중 string 타입을 이용하여 입자 이름과 PDGID를 비교해 볼 수 있다. `Particle(n::String, anti=false)` "
   ]
  },
  {
   "cell_type": "code",
   "execution_count": 103,
   "id": "e1f05861-dda2-459f-8a4f-cee255e6e19e",
   "metadata": {},
   "outputs": [
    {
     "name": "stdout",
     "output_type": "stream",
     "text": [
      "Name:    mu\n",
      "PDG ID:  13\n",
      "LaTeX:   $\\mu^{-}$\n",
      "Status:  Common\n",
      "Width = 2.9959837e-16 MeV c^-2 ± 3.0e-22 MeV c^-2\n",
      "Q (charge) = -1//1 e\n",
      "Mass = 105.6583745 MeV c^-2 ± 2.4e-6 MeV c^-2\n",
      "\n",
      "Name:    mu\n",
      "PDG ID:  -13\n",
      "LaTeX:   $\\mu^{+}$\n",
      "Status:  Common\n",
      "Width = 2.9959837e-16 MeV c^-2 ± 3.0e-22 MeV c^-2\n",
      "Q (charge) = 1//1 e\n",
      "Mass = 105.6583745 MeV c^-2 ± 2.4e-6 MeV c^-2\n"
     ]
    }
   ],
   "source": [
    "print(Particle(13), \"\\n\")\n",
    "print(Particle(-13))"
   ]
  },
  {
   "cell_type": "code",
   "execution_count": 95,
   "id": "e2def4a6-bf12-4319-bf0a-4c6fd6c98564",
   "metadata": {},
   "outputs": [
    {
     "data": {
      "text/plain": [
       "true"
      ]
     },
     "execution_count": 95,
     "metadata": {},
     "output_type": "execute_result"
    }
   ],
   "source": [
    "Particle(\"mu\") == Particle(13)"
   ]
  },
  {
   "cell_type": "code",
   "execution_count": 96,
   "id": "34d40bf7-f247-4e71-bff0-15501a4ebbee",
   "metadata": {},
   "outputs": [
    {
     "data": {
      "text/plain": [
       "true"
      ]
     },
     "execution_count": 96,
     "metadata": {},
     "output_type": "execute_result"
    }
   ],
   "source": [
    "-Particle(\"mu\") == Particle(-13)"
   ]
  },
  {
   "cell_type": "code",
   "execution_count": 97,
   "id": "44bfc3f9-a484-4520-bdc2-91f46ba4bb2b",
   "metadata": {},
   "outputs": [
    {
     "data": {
      "text/plain": [
       "true"
      ]
     },
     "execution_count": 97,
     "metadata": {},
     "output_type": "execute_result"
    }
   ],
   "source": [
    "Particle(\"anti-mu\") == Particle(-13)"
   ]
  },
  {
   "cell_type": "code",
   "execution_count": 98,
   "id": "bf014efb-e98e-4c98-8197-db299686724e",
   "metadata": {},
   "outputs": [
    {
     "data": {
      "text/plain": [
       "true"
      ]
     },
     "execution_count": 98,
     "metadata": {},
     "output_type": "execute_result"
    }
   ],
   "source": [
    "Particle(\"mu~\") == Particle(-13)"
   ]
  },
  {
   "cell_type": "code",
   "execution_count": 104,
   "id": "3c11a043-bbf9-4fb6-b06e-d570c433c0d5",
   "metadata": {},
   "outputs": [
    {
     "data": {
      "text/plain": [
       "true"
      ]
     },
     "execution_count": 104,
     "metadata": {},
     "output_type": "execute_result"
    }
   ],
   "source": [
    "Particle(\"muon\") == Particle(13)"
   ]
  },
  {
   "cell_type": "code",
   "execution_count": 105,
   "id": "b93ed147-2145-41be-a5d8-485916dc6c47",
   "metadata": {},
   "outputs": [
    {
     "data": {
      "text/plain": [
       "false"
      ]
     },
     "execution_count": 105,
     "metadata": {},
     "output_type": "execute_result"
    }
   ],
   "source": [
    "Particle(\"muon\") == Particle(-13)"
   ]
  },
  {
   "cell_type": "code",
   "execution_count": 107,
   "id": "dcd7c39f-74ef-47a8-a12d-8d44a31b617a",
   "metadata": {},
   "outputs": [
    {
     "data": {
      "text/plain": [
       "true"
      ]
     },
     "execution_count": 107,
     "metadata": {},
     "output_type": "execute_result"
    }
   ],
   "source": [
    "Particle(\"mu-\") == Particle(13)"
   ]
  },
  {
   "cell_type": "code",
   "execution_count": 108,
   "id": "0509ebc2-a980-46ff-b399-0324f5ad737b",
   "metadata": {},
   "outputs": [
    {
     "data": {
      "text/plain": [
       "false"
      ]
     },
     "execution_count": 108,
     "metadata": {},
     "output_type": "execute_result"
    }
   ],
   "source": [
    "Particle(\"mu-\") == Particle(-13)"
   ]
  },
  {
   "cell_type": "code",
   "execution_count": 109,
   "id": "55c5578e-ee6f-4193-8b4d-4c0b04d0656e",
   "metadata": {},
   "outputs": [
    {
     "data": {
      "text/plain": [
       "false"
      ]
     },
     "execution_count": 109,
     "metadata": {},
     "output_type": "execute_result"
    }
   ],
   "source": [
    "Particle(\"mu+\") == Particle(13)"
   ]
  },
  {
   "cell_type": "code",
   "execution_count": 110,
   "id": "e205d80a-290f-455a-808f-02ac77c11f72",
   "metadata": {},
   "outputs": [
    {
     "data": {
      "text/plain": [
       "true"
      ]
     },
     "execution_count": 110,
     "metadata": {},
     "output_type": "execute_result"
    }
   ],
   "source": [
    "Particle(\"mu+\") == Particle(-13)"
   ]
  }
 ],
 "metadata": {
  "kernelspec": {
   "display_name": "Julia 1.7.3",
   "language": "julia",
   "name": "julia-1.7"
  },
  "language_info": {
   "file_extension": ".jl",
   "mimetype": "application/julia",
   "name": "julia",
   "version": "1.7.3"
  }
 },
 "nbformat": 4,
 "nbformat_minor": 5
}
